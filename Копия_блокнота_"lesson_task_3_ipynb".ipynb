{
  "nbformat": 4,
  "nbformat_minor": 0,
  "metadata": {
    "colab": {
      "name": "Копия блокнота \"lesson_task_3.ipynb\"",
      "provenance": [],
      "collapsed_sections": [],
      "mount_file_id": "1GddwO2olEBhSBmXkvDqakd_uV7XaIRSv",
      "authorship_tag": "ABX9TyOUM2uTyOn+8L30LIGDtKy3",
      "include_colab_link": true
    },
    "kernelspec": {
      "name": "python3",
      "display_name": "Python 3"
    },
    "language_info": {
      "name": "python"
    }
  },
  "cells": [
    {
      "cell_type": "markdown",
      "metadata": {
        "id": "view-in-github",
        "colab_type": "text"
      },
      "source": [
        "<a href=\"https://colab.research.google.com/github/svyatoslavn1000/data_science_np_pd/blob/lesson_task_3/%D0%9A%D0%BE%D0%BF%D0%B8%D1%8F_%D0%B1%D0%BB%D0%BE%D0%BA%D0%BD%D0%BE%D1%82%D0%B0_%22lesson_task_3_ipynb%22.ipynb\" target=\"_parent\"><img src=\"https://colab.research.google.com/assets/colab-badge.svg\" alt=\"Open In Colab\"/></a>"
      ]
    },
    {
      "cell_type": "markdown",
      "metadata": {
        "id": "KsjSqMVhX26N"
      },
      "source": [
        "##Задание 1."
      ]
    },
    {
      "cell_type": "code",
      "metadata": {
        "id": "9-27MEJDXHas"
      },
      "source": [
        "import warnings\n",
        "\n",
        "warnings.filterwarnings('ignore')"
      ],
      "execution_count": null,
      "outputs": []
    },
    {
      "cell_type": "code",
      "metadata": {
        "id": "ckxdzK2dYCnN"
      },
      "source": [
        "import numpy as np\n",
        "import pandas as pd\n",
        "\n",
        "from sklearn.datasets import load_boston"
      ],
      "execution_count": null,
      "outputs": []
    },
    {
      "cell_type": "code",
      "metadata": {
        "colab": {
          "base_uri": "https://localhost:8080/"
        },
        "id": "ZrTN8wSIYHJQ",
        "outputId": "a75c5de8-5ea9-4d7f-eb36-9d53d694af4f"
      },
      "source": [
        "boston = load_boston()\n",
        "\n",
        "boston.keys()"
      ],
      "execution_count": null,
      "outputs": [
        {
          "output_type": "execute_result",
          "data": {
            "text/plain": [
              "dict_keys(['data', 'target', 'feature_names', 'DESCR', 'filename'])"
            ]
          },
          "metadata": {
            "tags": []
          },
          "execution_count": 31
        }
      ]
    },
    {
      "cell_type": "code",
      "metadata": {
        "id": "8WK_gXZQYMw5"
      },
      "source": [
        "\n",
        "data = boston[\"data\"]\n",
        "target = boston[\"target\"]"
      ],
      "execution_count": null,
      "outputs": []
    },
    {
      "cell_type": "code",
      "metadata": {
        "id": "HN0-QZJ1YYb_"
      },
      "source": [
        "feature_names = boston[\"feature_names\"]"
      ],
      "execution_count": null,
      "outputs": []
    },
    {
      "cell_type": "code",
      "metadata": {
        "id": "GOBbm24IYpEy"
      },
      "source": [
        "X = pd.DataFrame(data, columns=feature_names)\n",
        "y = pd.DataFrame(target, columns=[\"price\"])"
      ],
      "execution_count": null,
      "outputs": []
    },
    {
      "cell_type": "code",
      "metadata": {
        "id": "yRAF64qXY1yQ"
      },
      "source": [
        "from sklearn.model_selection import train_test_split"
      ],
      "execution_count": null,
      "outputs": []
    },
    {
      "cell_type": "code",
      "metadata": {
        "id": "5LFldajjY9mH"
      },
      "source": [
        "X_train, X_test, y_train, y_test = train_test_split(X, y, test_size=0.3, random_state=42)"
      ],
      "execution_count": null,
      "outputs": []
    },
    {
      "cell_type": "code",
      "metadata": {
        "id": "--HOHGlkdr7l"
      },
      "source": [
        "# from sklearn.preprocessing import StandardScaler\n",
        "\n",
        "# scaler = StandardScaler()"
      ],
      "execution_count": null,
      "outputs": []
    },
    {
      "cell_type": "code",
      "metadata": {
        "id": "O3hTDxUXdve4"
      },
      "source": [
        "# X_train_scaled = scaler.fit_transform(X_train)\n",
        "# X_train_scaled = pd.DataFrame(X_train_scaled, columns=feature_names)\n",
        "\n",
        "# X_test_scaled = scaler.fit_transform(X_test)\n",
        "# X_test_scaled = pd.DataFrame(X_test_scaled, columns=feature_names)"
      ],
      "execution_count": null,
      "outputs": []
    },
    {
      "cell_type": "code",
      "metadata": {
        "id": "fVFyJnAeZNSw"
      },
      "source": [
        "from sklearn.linear_model import LinearRegression"
      ],
      "execution_count": null,
      "outputs": []
    },
    {
      "cell_type": "code",
      "metadata": {
        "id": "GtDL1Z1MaL8H"
      },
      "source": [
        "# lr.fit(X_train_scaled, y_train)\n",
        "\n",
        "# plt.barh(feature_names, lr.coef_.flatten())\n",
        "\n",
        "# plt.xlabel(\"Вес признака\")\n",
        "# plt.ylabel(\"Признак\")\n",
        "\n",
        "# plt.show()"
      ],
      "execution_count": null,
      "outputs": []
    },
    {
      "cell_type": "code",
      "metadata": {
        "colab": {
          "base_uri": "https://localhost:8080/"
        },
        "id": "A2vou_a3fRAk",
        "outputId": "43288b52-5912-466d-8cc9-6c702e65e62e"
      },
      "source": [
        "lr = LinearRegression()\n",
        "lr.fit(X_train, y_train)"
      ],
      "execution_count": null,
      "outputs": [
        {
          "output_type": "execute_result",
          "data": {
            "text/plain": [
              "LinearRegression(copy_X=True, fit_intercept=True, n_jobs=None, normalize=False)"
            ]
          },
          "metadata": {
            "tags": []
          },
          "execution_count": 41
        }
      ]
    },
    {
      "cell_type": "code",
      "metadata": {
        "id": "xeRnCnILaP0y"
      },
      "source": [
        "y_pred = lr.predict(X_test)"
      ],
      "execution_count": null,
      "outputs": []
    },
    {
      "cell_type": "code",
      "metadata": {
        "id": "I25SEa-KbKEO"
      },
      "source": [
        "check_test = pd.DataFrame({\n",
        "    \"y_test\": y_test[\"price\"],\n",
        "    \"y_pred\": y_pred.flatten(),\n",
        "})"
      ],
      "execution_count": null,
      "outputs": []
    },
    {
      "cell_type": "code",
      "metadata": {
        "id": "zlpmvnTNbVWi"
      },
      "source": [
        "check_test[\"error\"] = check_test[\"y_pred\"] - check_test[\"y_test\"]"
      ],
      "execution_count": null,
      "outputs": []
    },
    {
      "cell_type": "code",
      "metadata": {
        "colab": {
          "base_uri": "https://localhost:8080/"
        },
        "id": "q1Jc2krtbdBo",
        "outputId": "ddc1c546-31a6-45e5-d85d-20ccf3407d50"
      },
      "source": [
        "from sklearn.metrics import mean_squared_error\n",
        "\n",
        "mean_squared_error(check_test[\"y_pred\"], check_test[\"y_test\"])"
      ],
      "execution_count": null,
      "outputs": [
        {
          "output_type": "execute_result",
          "data": {
            "text/plain": [
              "21.5174442311769"
            ]
          },
          "metadata": {
            "tags": []
          },
          "execution_count": 45
        }
      ]
    },
    {
      "cell_type": "code",
      "metadata": {
        "colab": {
          "base_uri": "https://localhost:8080/"
        },
        "id": "xBdNrVH5bjtb",
        "outputId": "5de8a1a9-37e4-41a6-9616-cbf755f9b969"
      },
      "source": [
        "from sklearn.metrics import mean_absolute_error\n",
        "\n",
        "mean_absolute_error(check_test[\"y_pred\"], check_test[\"y_test\"])"
      ],
      "execution_count": null,
      "outputs": [
        {
          "output_type": "execute_result",
          "data": {
            "text/plain": [
              "3.1627098714573685"
            ]
          },
          "metadata": {
            "tags": []
          },
          "execution_count": 46
        }
      ]
    },
    {
      "cell_type": "code",
      "metadata": {
        "colab": {
          "base_uri": "https://localhost:8080/"
        },
        "id": "lCtNEzkCbq9e",
        "outputId": "93e71def-9723-4b09-fb6a-631248ae7ea3"
      },
      "source": [
        "lr.intercept_"
      ],
      "execution_count": null,
      "outputs": [
        {
          "output_type": "execute_result",
          "data": {
            "text/plain": [
              "array([31.63108404])"
            ]
          },
          "metadata": {
            "tags": []
          },
          "execution_count": 47
        }
      ]
    },
    {
      "cell_type": "code",
      "metadata": {
        "colab": {
          "base_uri": "https://localhost:8080/"
        },
        "id": "HfB3mV-Mb1b4",
        "outputId": "61d97d3e-20b6-4045-d39e-b36117d3ece2"
      },
      "source": [
        "\n",
        "lr.coef_"
      ],
      "execution_count": null,
      "outputs": [
        {
          "output_type": "execute_result",
          "data": {
            "text/plain": [
              "array([[-1.33470103e-01,  3.58089136e-02,  4.95226452e-02,\n",
              "         3.11983512e+00, -1.54170609e+01,  4.05719923e+00,\n",
              "        -1.08208352e-02, -1.38599824e+00,  2.42727340e-01,\n",
              "        -8.70223437e-03, -9.10685208e-01,  1.17941159e-02,\n",
              "        -5.47113313e-01]])"
            ]
          },
          "metadata": {
            "tags": []
          },
          "execution_count": 48
        }
      ]
    },
    {
      "cell_type": "code",
      "metadata": {
        "id": "2RKNUAV9b7Nd"
      },
      "source": [
        "\n",
        "from matplotlib import pyplot as plt\n",
        "\n",
        "plt.rcParams['figure.figsize'] = 6, 4\n",
        "\n",
        "%matplotlib inline"
      ],
      "execution_count": null,
      "outputs": []
    },
    {
      "cell_type": "code",
      "metadata": {
        "colab": {
          "base_uri": "https://localhost:8080/",
          "height": 279
        },
        "id": "Nz8xp0tCcBNR",
        "outputId": "1592adac-7ea2-4815-bea3-0828d301bfa9"
      },
      "source": [
        "plt.barh(feature_names, lr.coef_.flatten())\n",
        "plt.xlabel(\"Вес признака\")\n",
        "plt.ylabel(\"Признак\")\n",
        "\n",
        "plt.show()"
      ],
      "execution_count": null,
      "outputs": [
        {
          "output_type": "display_data",
          "data": {
            "image/png": "[encoded data removed]",
            "text/plain": [
              "<Figure size 432x288 with 1 Axes>"
            ]
          },
          "metadata": {
            "tags": [],
            "needs_background": "light"
          }
        }
      ]
    },
    {
      "cell_type": "code",
      "metadata": {
        "id": "xGsdEuec89sN"
      },
      "source": [
        "from sklearn.metrics import r2_score"
      ],
      "execution_count": null,
      "outputs": []
    },
    {
      "cell_type": "markdown",
      "metadata": {
        "id": "RM-uXEilfuHN"
      },
      "source": [
        "###Ппосле стандартизации почему-то резко ухудшились метрики. Хотя даже на глаз видно, что дисперсии признаков численно больше 1."
      ]
    },
    {
      "cell_type": "code",
      "metadata": {
        "colab": {
          "base_uri": "https://localhost:8080/"
        },
        "id": "q-1B_RPv9ALz",
        "outputId": "fdef06f0-94c4-4aba-e7d1-9a6bee1c56dd"
      },
      "source": [
        "r2_score(y_pred, y_test)"
      ],
      "execution_count": null,
      "outputs": [
        {
          "output_type": "execute_result",
          "data": {
            "text/plain": [
              "0.6693702691495629"
            ]
          },
          "metadata": {
            "tags": []
          },
          "execution_count": 52
        }
      ]
    },
    {
      "cell_type": "markdown",
      "metadata": {
        "id": "_pGH4v89gcQq"
      },
      "source": [
        "##Задание 2."
      ]
    },
    {
      "cell_type": "code",
      "metadata": {
        "id": "LD4hJSFLghbF"
      },
      "source": [
        "from sklearn.ensemble import RandomForestClassifier"
      ],
      "execution_count": null,
      "outputs": []
    },
    {
      "cell_type": "code",
      "metadata": {
        "id": "L1DgW1po-NHF"
      },
      "source": [
        "from sklearn.model_selection import GridSearchCV"
      ],
      "execution_count": null,
      "outputs": []
    },
    {
      "cell_type": "code",
      "metadata": {
        "id": "xrneHqdu-9Vd"
      },
      "source": [
        "# parameters = {\n",
        "#     'n_estimators':1000,\n",
        "# 'criterion':'gini', 'max_depth':12, 'min_samples_split':2,\n",
        "# 'min_samples_leaf':1, 'min_weight_fraction_leaf':0.0,\n",
        "# 'max_features':'auto', 'max_leaf_nodes':None, 'min_impurity_split':1e-07,\n",
        "# 'bootstrap':True, 'oob_score':False, 'n_jobs':1,\n",
        "# 'random_state':42, 'verbose':0, 'warm_start':False,\n",
        "# 'class_weight':None\n",
        "# }\n",
        "\n",
        "# clf = GridSearchCV(\n",
        "#     estimator=RandomForestClassifier(),\n",
        "#     param_grid=parameters,\n",
        "#     scoring='accuracy',\n",
        "#     cv=5\n",
        "# )"
      ],
      "execution_count": null,
      "outputs": []
    },
    {
      "cell_type": "code",
      "metadata": {
        "id": "4qk0vHIHCBjH"
      },
      "source": [
        "from sklearn.ensemble import RandomForestRegressor\n",
        "from sklearn.metrics import roc_auc_score\n",
        "\n",
        "\n",
        "model =  RandomForestRegressor(n_estimators=1000 ,\n",
        "                               random_state=42,\n",
        "                               max_depth = 12)\n",
        "model.fit(X_train, y_train.values[:, 0]) # обучение\n",
        "y_pred_1 = model.predict(X_test) # предсказание\n"
      ],
      "execution_count": null,
      "outputs": []
    },
    {
      "cell_type": "code",
      "metadata": {
        "colab": {
          "base_uri": "https://localhost:8080/"
        },
        "id": "If5Tr9v7D_j7",
        "outputId": "c7e3cb84-04f7-4de6-d02c-6ce3d151f21a"
      },
      "source": [
        "r2_score(y_pred_1, y_test)"
      ],
      "execution_count": null,
      "outputs": [
        {
          "output_type": "execute_result",
          "data": {
            "text/plain": [
              "0.8481499145965063"
            ]
          },
          "metadata": {
            "tags": []
          },
          "execution_count": 57
        }
      ]
    },
    {
      "cell_type": "markdown",
      "metadata": {
        "id": "y8ijtjH2EB5v"
      },
      "source": [
        "Случайный лес дает результат лучше, чем регрессия."
      ]
    },
    {
      "cell_type": "markdown",
      "metadata": {
        "id": "uyK04pDvhBQU"
      },
      "source": [
        "##Задание 3."
      ]
    },
    {
      "cell_type": "code",
      "metadata": {
        "colab": {
          "base_uri": "https://localhost:8080/"
        },
        "id": "88pKaMQphEV_",
        "outputId": "9bb9a881-bdbf-49d8-bcd6-def843caf100"
      },
      "source": [
        "help(RandomForestRegressor)"
      ],
      "execution_count": null,
      "outputs": [
        {
          "output_type": "stream",
          "text": [
            "Help on class RandomForestRegressor in module sklearn.ensemble._forest:\n",
            "\n",
            "class RandomForestRegressor(ForestRegressor)\n",
            " |  RandomForestRegressor(n_estimators=100, criterion='mse', max_depth=None, min_samples_split=2, min_samples_leaf=1, min_weight_fraction_leaf=0.0, max_features='auto', max_leaf_nodes=None, min_impurity_decrease=0.0, min_impurity_split=None, bootstrap=True, oob_score=False, n_jobs=None, random_state=None, verbose=0, warm_start=False, ccp_alpha=0.0, max_samples=None)\n",
            " |  \n",
            " |  A random forest regressor.\n",
            " |  \n",
            " |  A random forest is a meta estimator that fits a number of classifying\n",
            " |  decision trees on various sub-samples of the dataset and uses averaging\n",
            " |  to improve the predictive accuracy and control over-fitting.\n",
            " |  The sub-sample size is always the same as the original\n",
            " |  input sample size but the samples are drawn with replacement if\n",
            " |  `bootstrap=True` (default).\n",
            " |  \n",
            " |  Read more in the :ref:`User Guide <forest>`.\n",
            " |  \n",
            " |  Parameters\n",
            " |  ----------\n",
            " |  n_estimators : integer, optional (default=10)\n",
            " |      The number of trees in the forest.\n",
            " |  \n",
            " |      .. versionchanged:: 0.22\n",
            " |         The default value of ``n_estimators`` changed from 10 to 100\n",
            " |         in 0.22.\n",
            " |  \n",
            " |  criterion : string, optional (default=\"mse\")\n",
            " |      The function to measure the quality of a split. Supported criteria\n",
            " |      are \"mse\" for the mean squared error, which is equal to variance\n",
            " |      reduction as feature selection criterion, and \"mae\" for the mean\n",
            " |      absolute error.\n",
            " |  \n",
            " |      .. versionadded:: 0.18\n",
            " |         Mean Absolute Error (MAE) criterion.\n",
            " |  \n",
            " |  max_depth : integer or None, optional (default=None)\n",
            " |      The maximum depth of the tree. If None, then nodes are expanded until\n",
            " |      all leaves are pure or until all leaves contain less than\n",
            " |      min_samples_split samples.\n",
            " |  \n",
            " |  min_samples_split : int, float, optional (default=2)\n",
            " |      The minimum number of samples required to split an internal node:\n",
            " |  \n",
            " |      - If int, then consider `min_samples_split` as the minimum number.\n",
            " |      - If float, then `min_samples_split` is a fraction and\n",
            " |        `ceil(min_samples_split * n_samples)` are the minimum\n",
            " |        number of samples for each split.\n",
            " |  \n",
            " |      .. versionchanged:: 0.18\n",
            " |         Added float values for fractions.\n",
            " |  \n",
            " |  min_samples_leaf : int, float, optional (default=1)\n",
            " |      The minimum number of samples required to be at a leaf node.\n",
            " |      A split point at any depth will only be considered if it leaves at\n",
            " |      least ``min_samples_leaf`` training samples in each of the left and\n",
            " |      right branches.  This may have the effect of smoothing the model,\n",
            " |      especially in regression.\n",
            " |  \n",
            " |      - If int, then consider `min_samples_leaf` as the minimum number.\n",
            " |      - If float, then `min_samples_leaf` is a fraction and\n",
            " |        `ceil(min_samples_leaf * n_samples)` are the minimum\n",
            " |        number of samples for each node.\n",
            " |  \n",
            " |      .. versionchanged:: 0.18\n",
            " |         Added float values for fractions.\n",
            " |  \n",
            " |  min_weight_fraction_leaf : float, optional (default=0.)\n",
            " |      The minimum weighted fraction of the sum total of weights (of all\n",
            " |      the input samples) required to be at a leaf node. Samples have\n",
            " |      equal weight when sample_weight is not provided.\n",
            " |  \n",
            " |  max_features : int, float, string or None, optional (default=\"auto\")\n",
            " |      The number of features to consider when looking for the best split:\n",
            " |  \n",
            " |      - If int, then consider `max_features` features at each split.\n",
            " |      - If float, then `max_features` is a fraction and\n",
            " |        `int(max_features * n_features)` features are considered at each\n",
            " |        split.\n",
            " |      - If \"auto\", then `max_features=n_features`.\n",
            " |      - If \"sqrt\", then `max_features=sqrt(n_features)`.\n",
            " |      - If \"log2\", then `max_features=log2(n_features)`.\n",
            " |      - If None, then `max_features=n_features`.\n",
            " |  \n",
            " |      Note: the search for a split does not stop until at least one\n",
            " |      valid partition of the node samples is found, even if it requires to\n",
            " |      effectively inspect more than ``max_features`` features.\n",
            " |  \n",
            " |  max_leaf_nodes : int or None, optional (default=None)\n",
            " |      Grow trees with ``max_leaf_nodes`` in best-first fashion.\n",
            " |      Best nodes are defined as relative reduction in impurity.\n",
            " |      If None then unlimited number of leaf nodes.\n",
            " |  \n",
            " |  min_impurity_decrease : float, optional (default=0.)\n",
            " |      A node will be split if this split induces a decrease of the impurity\n",
            " |      greater than or equal to this value.\n",
            " |  \n",
            " |      The weighted impurity decrease equation is the following::\n",
            " |  \n",
            " |          N_t / N * (impurity - N_t_R / N_t * right_impurity\n",
            " |                              - N_t_L / N_t * left_impurity)\n",
            " |  \n",
            " |      where ``N`` is the total number of samples, ``N_t`` is the number of\n",
            " |      samples at the current node, ``N_t_L`` is the number of samples in the\n",
            " |      left child, and ``N_t_R`` is the number of samples in the right child.\n",
            " |  \n",
            " |      ``N``, ``N_t``, ``N_t_R`` and ``N_t_L`` all refer to the weighted sum,\n",
            " |      if ``sample_weight`` is passed.\n",
            " |  \n",
            " |      .. versionadded:: 0.19\n",
            " |  \n",
            " |  min_impurity_split : float, (default=1e-7)\n",
            " |      Threshold for early stopping in tree growth. A node will split\n",
            " |      if its impurity is above the threshold, otherwise it is a leaf.\n",
            " |  \n",
            " |      .. deprecated:: 0.19\n",
            " |         ``min_impurity_split`` has been deprecated in favor of\n",
            " |         ``min_impurity_decrease`` in 0.19. The default value of\n",
            " |         ``min_impurity_split`` will change from 1e-7 to 0 in 0.23 and it\n",
            " |         will be removed in 0.25. Use ``min_impurity_decrease`` instead.\n",
            " |  \n",
            " |  bootstrap : boolean, optional (default=True)\n",
            " |      Whether bootstrap samples are used when building trees. If False, the\n",
            " |      whole datset is used to build each tree.\n",
            " |  \n",
            " |  oob_score : bool, optional (default=False)\n",
            " |      whether to use out-of-bag samples to estimate\n",
            " |      the R^2 on unseen data.\n",
            " |  \n",
            " |  n_jobs : int or None, optional (default=None)\n",
            " |      The number of jobs to run in parallel. :meth:`fit`, :meth:`predict`,\n",
            " |      :meth:`decision_path` and :meth:`apply` are all parallelized over the\n",
            " |      trees. ``None`` means 1 unless in a :obj:`joblib.parallel_backend`\n",
            " |      context. ``-1`` means using all processors. See :term:`Glossary\n",
            " |      <n_jobs>` for more details.\n",
            " |  \n",
            " |  random_state : int, RandomState instance or None, optional (default=None)\n",
            " |      Controls both the randomness of the bootstrapping of the samples used\n",
            " |      when building trees (if ``bootstrap=True``) and the sampling of the\n",
            " |      features to consider when looking for the best split at each node\n",
            " |      (if ``max_features < n_features``).\n",
            " |      See :term:`Glossary <random_state>` for details.\n",
            " |  \n",
            " |  verbose : int, optional (default=0)\n",
            " |      Controls the verbosity when fitting and predicting.\n",
            " |  \n",
            " |  warm_start : bool, optional (default=False)\n",
            " |      When set to ``True``, reuse the solution of the previous call to fit\n",
            " |      and add more estimators to the ensemble, otherwise, just fit a whole\n",
            " |      new forest. See :term:`the Glossary <warm_start>`.\n",
            " |  \n",
            " |  ccp_alpha : non-negative float, optional (default=0.0)\n",
            " |      Complexity parameter used for Minimal Cost-Complexity Pruning. The\n",
            " |      subtree with the largest cost complexity that is smaller than\n",
            " |      ``ccp_alpha`` will be chosen. By default, no pruning is performed. See\n",
            " |      :ref:`minimal_cost_complexity_pruning` for details.\n",
            " |  \n",
            " |      .. versionadded:: 0.22\n",
            " |  \n",
            " |  max_samples : int or float, default=None\n",
            " |      If bootstrap is True, the number of samples to draw from X\n",
            " |      to train each base estimator.\n",
            " |  \n",
            " |      - If None (default), then draw `X.shape[0]` samples.\n",
            " |      - If int, then draw `max_samples` samples.\n",
            " |      - If float, then draw `max_samples * X.shape[0]` samples. Thus,\n",
            " |        `max_samples` should be in the interval `(0, 1)`.\n",
            " |  \n",
            " |      .. versionadded:: 0.22\n",
            " |  \n",
            " |  Attributes\n",
            " |  ----------\n",
            " |  base_estimator_ : DecisionTreeRegressor\n",
            " |      The child estimator template used to create the collection of fitted\n",
            " |      sub-estimators.\n",
            " |  \n",
            " |  estimators_ : list of DecisionTreeRegressor\n",
            " |      The collection of fitted sub-estimators.\n",
            " |  \n",
            " |  feature_importances_ : ndarray of shape (n_features,)\n",
            " |      The feature importances (the higher, the more important the feature).\n",
            " |  \n",
            " |  n_features_ : int\n",
            " |      The number of features when ``fit`` is performed.\n",
            " |  \n",
            " |  n_outputs_ : int\n",
            " |      The number of outputs when ``fit`` is performed.\n",
            " |  \n",
            " |  oob_score_ : float\n",
            " |      Score of the training dataset obtained using an out-of-bag estimate.\n",
            " |      This attribute exists only when ``oob_score`` is True.\n",
            " |  \n",
            " |  oob_prediction_ : ndarray of shape (n_samples,)\n",
            " |      Prediction computed with out-of-bag estimate on the training set.\n",
            " |      This attribute exists only when ``oob_score`` is True.\n",
            " |  \n",
            " |  Examples\n",
            " |  --------\n",
            " |  >>> from sklearn.ensemble import RandomForestRegressor\n",
            " |  >>> from sklearn.datasets import make_regression\n",
            " |  \n",
            " |  >>> X, y = make_regression(n_features=4, n_informative=2,\n",
            " |  ...                        random_state=0, shuffle=False)\n",
            " |  >>> regr = RandomForestRegressor(max_depth=2, random_state=0)\n",
            " |  >>> regr.fit(X, y)\n",
            " |  RandomForestRegressor(max_depth=2, random_state=0)\n",
            " |  >>> print(regr.feature_importances_)\n",
            " |  [0.18146984 0.81473937 0.00145312 0.00233767]\n",
            " |  >>> print(regr.predict([[0, 0, 0, 0]]))\n",
            " |  [-8.32987858]\n",
            " |  \n",
            " |  Notes\n",
            " |  -----\n",
            " |  The default values for the parameters controlling the size of the trees\n",
            " |  (e.g. ``max_depth``, ``min_samples_leaf``, etc.) lead to fully grown and\n",
            " |  unpruned trees which can potentially be very large on some data sets. To\n",
            " |  reduce memory consumption, the complexity and size of the trees should be\n",
            " |  controlled by setting those parameter values.\n",
            " |  \n",
            " |  The features are always randomly permuted at each split. Therefore,\n",
            " |  the best found split may vary, even with the same training data,\n",
            " |  ``max_features=n_features`` and ``bootstrap=False``, if the improvement\n",
            " |  of the criterion is identical for several splits enumerated during the\n",
            " |  search of the best split. To obtain a deterministic behaviour during\n",
            " |  fitting, ``random_state`` has to be fixed.\n",
            " |  \n",
            " |  The default value ``max_features=\"auto\"`` uses ``n_features``\n",
            " |  rather than ``n_features / 3``. The latter was originally suggested in\n",
            " |  [1], whereas the former was more recently justified empirically in [2].\n",
            " |  \n",
            " |  References\n",
            " |  ----------\n",
            " |  \n",
            " |  .. [1] L. Breiman, \"Random Forests\", Machine Learning, 45(1), 5-32, 2001.\n",
            " |  \n",
            " |  .. [2] P. Geurts, D. Ernst., and L. Wehenkel, \"Extremely randomized\n",
            " |         trees\", Machine Learning, 63(1), 3-42, 2006.\n",
            " |  \n",
            " |  See Also\n",
            " |  --------\n",
            " |  DecisionTreeRegressor, ExtraTreesRegressor\n",
            " |  \n",
            " |  Method resolution order:\n",
            " |      RandomForestRegressor\n",
            " |      ForestRegressor\n",
            " |      sklearn.base.RegressorMixin\n",
            " |      BaseForest\n",
            " |      sklearn.base.MultiOutputMixin\n",
            " |      sklearn.ensemble._base.BaseEnsemble\n",
            " |      sklearn.base.MetaEstimatorMixin\n",
            " |      sklearn.base.BaseEstimator\n",
            " |      builtins.object\n",
            " |  \n",
            " |  Methods defined here:\n",
            " |  \n",
            " |  __init__(self, n_estimators=100, criterion='mse', max_depth=None, min_samples_split=2, min_samples_leaf=1, min_weight_fraction_leaf=0.0, max_features='auto', max_leaf_nodes=None, min_impurity_decrease=0.0, min_impurity_split=None, bootstrap=True, oob_score=False, n_jobs=None, random_state=None, verbose=0, warm_start=False, ccp_alpha=0.0, max_samples=None)\n",
            " |      Initialize self.  See help(type(self)) for accurate signature.\n",
            " |  \n",
            " |  ----------------------------------------------------------------------\n",
            " |  Data and other attributes defined here:\n",
            " |  \n",
            " |  __abstractmethods__ = frozenset()\n",
            " |  \n",
            " |  ----------------------------------------------------------------------\n",
            " |  Methods inherited from ForestRegressor:\n",
            " |  \n",
            " |  predict(self, X)\n",
            " |      Predict regression target for X.\n",
            " |      \n",
            " |      The predicted regression target of an input sample is computed as the\n",
            " |      mean predicted regression targets of the trees in the forest.\n",
            " |      \n",
            " |      Parameters\n",
            " |      ----------\n",
            " |      X : array-like or sparse matrix of shape (n_samples, n_features)\n",
            " |          The input samples. Internally, its dtype will be converted to\n",
            " |          ``dtype=np.float32``. If a sparse matrix is provided, it will be\n",
            " |          converted into a sparse ``csr_matrix``.\n",
            " |      \n",
            " |      Returns\n",
            " |      -------\n",
            " |      y : array-like of shape (n_samples,) or (n_samples, n_outputs)\n",
            " |          The predicted values.\n",
            " |  \n",
            " |  ----------------------------------------------------------------------\n",
            " |  Methods inherited from sklearn.base.RegressorMixin:\n",
            " |  \n",
            " |  score(self, X, y, sample_weight=None)\n",
            " |      Return the coefficient of determination R^2 of the prediction.\n",
            " |      \n",
            " |      The coefficient R^2 is defined as (1 - u/v), where u is the residual\n",
            " |      sum of squares ((y_true - y_pred) ** 2).sum() and v is the total\n",
            " |      sum of squares ((y_true - y_true.mean()) ** 2).sum().\n",
            " |      The best possible score is 1.0 and it can be negative (because the\n",
            " |      model can be arbitrarily worse). A constant model that always\n",
            " |      predicts the expected value of y, disregarding the input features,\n",
            " |      would get a R^2 score of 0.0.\n",
            " |      \n",
            " |      Parameters\n",
            " |      ----------\n",
            " |      X : array-like of shape (n_samples, n_features)\n",
            " |          Test samples. For some estimators this may be a\n",
            " |          precomputed kernel matrix or a list of generic objects instead,\n",
            " |          shape = (n_samples, n_samples_fitted),\n",
            " |          where n_samples_fitted is the number of\n",
            " |          samples used in the fitting for the estimator.\n",
            " |      \n",
            " |      y : array-like of shape (n_samples,) or (n_samples, n_outputs)\n",
            " |          True values for X.\n",
            " |      \n",
            " |      sample_weight : array-like of shape (n_samples,), default=None\n",
            " |          Sample weights.\n",
            " |      \n",
            " |      Returns\n",
            " |      -------\n",
            " |      score : float\n",
            " |          R^2 of self.predict(X) wrt. y.\n",
            " |      \n",
            " |      Notes\n",
            " |      -----\n",
            " |      The R2 score used when calling ``score`` on a regressor will use\n",
            " |      ``multioutput='uniform_average'`` from version 0.23 to keep consistent\n",
            " |      with :func:`~sklearn.metrics.r2_score`. This will influence the\n",
            " |      ``score`` method of all the multioutput regressors (except for\n",
            " |      :class:`~sklearn.multioutput.MultiOutputRegressor`). To specify the\n",
            " |      default value manually and avoid the warning, please either call\n",
            " |      :func:`~sklearn.metrics.r2_score` directly or make a custom scorer with\n",
            " |      :func:`~sklearn.metrics.make_scorer` (the built-in scorer ``'r2'`` uses\n",
            " |      ``multioutput='uniform_average'``).\n",
            " |  \n",
            " |  ----------------------------------------------------------------------\n",
            " |  Data descriptors inherited from sklearn.base.RegressorMixin:\n",
            " |  \n",
            " |  __dict__\n",
            " |      dictionary for instance variables (if defined)\n",
            " |  \n",
            " |  __weakref__\n",
            " |      list of weak references to the object (if defined)\n",
            " |  \n",
            " |  ----------------------------------------------------------------------\n",
            " |  Methods inherited from BaseForest:\n",
            " |  \n",
            " |  apply(self, X)\n",
            " |      Apply trees in the forest to X, return leaf indices.\n",
            " |      \n",
            " |      Parameters\n",
            " |      ----------\n",
            " |      X : {array-like or sparse matrix} of shape (n_samples, n_features)\n",
            " |          The input samples. Internally, its dtype will be converted to\n",
            " |          ``dtype=np.float32``. If a sparse matrix is provided, it will be\n",
            " |          converted into a sparse ``csr_matrix``.\n",
            " |      \n",
            " |      Returns\n",
            " |      -------\n",
            " |      X_leaves : array_like, shape = [n_samples, n_estimators]\n",
            " |          For each datapoint x in X and for each tree in the forest,\n",
            " |          return the index of the leaf x ends up in.\n",
            " |  \n",
            " |  decision_path(self, X)\n",
            " |      Return the decision path in the forest.\n",
            " |      \n",
            " |      .. versionadded:: 0.18\n",
            " |      \n",
            " |      Parameters\n",
            " |      ----------\n",
            " |      X : {array-like or sparse matrix} of shape (n_samples, n_features)\n",
            " |          The input samples. Internally, its dtype will be converted to\n",
            " |          ``dtype=np.float32``. If a sparse matrix is provided, it will be\n",
            " |          converted into a sparse ``csr_matrix``.\n",
            " |      \n",
            " |      Returns\n",
            " |      -------\n",
            " |      indicator : sparse csr array, shape = [n_samples, n_nodes]\n",
            " |          Return a node indicator matrix where non zero elements\n",
            " |          indicates that the samples goes through the nodes.\n",
            " |      \n",
            " |      n_nodes_ptr : array of size (n_estimators + 1, )\n",
            " |          The columns from indicator[n_nodes_ptr[i]:n_nodes_ptr[i+1]]\n",
            " |          gives the indicator value for the i-th estimator.\n",
            " |  \n",
            " |  fit(self, X, y, sample_weight=None)\n",
            " |      Build a forest of trees from the training set (X, y).\n",
            " |      \n",
            " |      Parameters\n",
            " |      ----------\n",
            " |      X : array-like or sparse matrix of shape (n_samples, n_features)\n",
            " |          The training input samples. Internally, its dtype will be converted\n",
            " |          to ``dtype=np.float32``. If a sparse matrix is provided, it will be\n",
            " |          converted into a sparse ``csc_matrix``.\n",
            " |      \n",
            " |      y : array-like of shape (n_samples,) or (n_samples, n_outputs)\n",
            " |          The target values (class labels in classification, real numbers in\n",
            " |          regression).\n",
            " |      \n",
            " |      sample_weight : array-like of shape (n_samples,), default=None\n",
            " |          Sample weights. If None, then samples are equally weighted. Splits\n",
            " |          that would create child nodes with net zero or negative weight are\n",
            " |          ignored while searching for a split in each node. In the case of\n",
            " |          classification, splits are also ignored if they would result in any\n",
            " |          single class carrying a negative weight in either child node.\n",
            " |      \n",
            " |      Returns\n",
            " |      -------\n",
            " |      self : object\n",
            " |  \n",
            " |  ----------------------------------------------------------------------\n",
            " |  Data descriptors inherited from BaseForest:\n",
            " |  \n",
            " |  feature_importances_\n",
            " |      Return the feature importances (the higher, the more important the\n",
            " |         feature).\n",
            " |      \n",
            " |      Returns\n",
            " |      -------\n",
            " |      feature_importances_ : array, shape = [n_features]\n",
            " |          The values of this array sum to 1, unless all trees are single node\n",
            " |          trees consisting of only the root node, in which case it will be an\n",
            " |          array of zeros.\n",
            " |  \n",
            " |  ----------------------------------------------------------------------\n",
            " |  Methods inherited from sklearn.ensemble._base.BaseEnsemble:\n",
            " |  \n",
            " |  __getitem__(self, index)\n",
            " |      Return the index'th estimator in the ensemble.\n",
            " |  \n",
            " |  __iter__(self)\n",
            " |      Return iterator over estimators in the ensemble.\n",
            " |  \n",
            " |  __len__(self)\n",
            " |      Return the number of estimators in the ensemble.\n",
            " |  \n",
            " |  ----------------------------------------------------------------------\n",
            " |  Methods inherited from sklearn.base.BaseEstimator:\n",
            " |  \n",
            " |  __getstate__(self)\n",
            " |  \n",
            " |  __repr__(self, N_CHAR_MAX=700)\n",
            " |      Return repr(self).\n",
            " |  \n",
            " |  __setstate__(self, state)\n",
            " |  \n",
            " |  get_params(self, deep=True)\n",
            " |      Get parameters for this estimator.\n",
            " |      \n",
            " |      Parameters\n",
            " |      ----------\n",
            " |      deep : bool, default=True\n",
            " |          If True, will return the parameters for this estimator and\n",
            " |          contained subobjects that are estimators.\n",
            " |      \n",
            " |      Returns\n",
            " |      -------\n",
            " |      params : mapping of string to any\n",
            " |          Parameter names mapped to their values.\n",
            " |  \n",
            " |  set_params(self, **params)\n",
            " |      Set the parameters of this estimator.\n",
            " |      \n",
            " |      The method works on simple estimators as well as on nested objects\n",
            " |      (such as pipelines). The latter have parameters of the form\n",
            " |      ``<component>__<parameter>`` so that it's possible to update each\n",
            " |      component of a nested object.\n",
            " |      \n",
            " |      Parameters\n",
            " |      ----------\n",
            " |      **params : dict\n",
            " |          Estimator parameters.\n",
            " |      \n",
            " |      Returns\n",
            " |      -------\n",
            " |      self : object\n",
            " |          Estimator instance.\n",
            "\n"
          ],
          "name": "stdout"
        }
      ]
    },
    {
      "cell_type": "code",
      "metadata": {
        "colab": {
          "base_uri": "https://localhost:8080/"
        },
        "id": "7G56eShPhIaO",
        "outputId": "1f7d4715-014d-4511-bdc3-a22544a9d4e2"
      },
      "source": [
        "model.feature_importance_"
      ],
      "execution_count": null,
      "outputs": [
        {
          "output_type": "execute_result",
          "data": {
            "text/plain": [
              "array([0.03211748, 0.00154999, 0.0070941 , 0.0011488 , 0.01436832,\n",
              "       0.40270459, 0.01424477, 0.06403265, 0.00496762, 0.01169177,\n",
              "       0.01808961, 0.0123114 , 0.41567892])"
            ]
          },
          "metadata": {
            "tags": []
          },
          "execution_count": 60
        }
      ]
    },
    {
      "cell_type": "code",
      "metadata": {
        "colab": {
          "base_uri": "https://localhost:8080/"
        },
        "id": "msSsW76zjEb0",
        "outputId": "f8ec248f-f2a7-4878-9e9f-7588626628f2"
      },
      "source": [
        "feature_names"
      ],
      "execution_count": null,
      "outputs": [
        {
          "output_type": "execute_result",
          "data": {
            "text/plain": [
              "array(['CRIM', 'ZN', 'INDUS', 'CHAS', 'NOX', 'RM', 'AGE', 'DIS', 'RAD',\n",
              "       'TAX', 'PTRATIO', 'B', 'LSTAT'], dtype='<U7')"
            ]
          },
          "metadata": {
            "tags": []
          },
          "execution_count": 62
        }
      ]
    },
    {
      "cell_type": "markdown",
      "metadata": {
        "id": "2v49M3hmlCdN"
      },
      "source": [
        "Наиболее важные признаки --- 'RM', 'LSTAT'."
      ]
    },
    {
      "cell_type": "markdown",
      "metadata": {
        "id": "DdPsCRiXllb-"
      },
      "source": [
        "##Задание 4."
      ]
    },
    {
      "cell_type": "code",
      "metadata": {
        "id": "Rp21wk29kn5l"
      },
      "source": [
        "from sklearn.ensemble import RandomForestClassifier\n",
        "from sklearn.model_selection import GridSearchCV\n",
        "from sklearn.model_selection import train_test_split"
      ],
      "execution_count": 93,
      "outputs": []
    },
    {
      "cell_type": "code",
      "metadata": {
        "id": "QCd0hd-Smg0C"
      },
      "source": [
        "DATASET_PATH = '/content/drive/MyDrive/creditcard.csv'\n",
        "#  PREPARED_DATASET_PATH = '/content/drive/MyDrive/creditcard_prepared.csv'"
      ],
      "execution_count": 94,
      "outputs": []
    },
    {
      "cell_type": "code",
      "metadata": {
        "colab": {
          "base_uri": "https://localhost:8080/",
          "height": 224
        },
        "id": "pPL9HgXqnwGN",
        "outputId": "bb48ce7d-c9e7-4912-c3f7-b6cb6eadc5c8"
      },
      "source": [
        "df = pd.read_csv(DATASET_PATH, sep=',')\n",
        "df = df.drop([0,45645])\n",
        "df.tail()"
      ],
      "execution_count": 99,
      "outputs": [
        {
          "output_type": "execute_result",
          "data": {
            "text/html": [
              "<div>\n",
              "<style scoped>\n",
              "    .dataframe tbody tr th:only-of-type {\n",
              "        vertical-align: middle;\n",
              "    }\n",
              "\n",
              "    .dataframe tbody tr th {\n",
              "        vertical-align: top;\n",
              "    }\n",
              "\n",
              "    .dataframe thead th {\n",
              "        text-align: right;\n",
              "    }\n",
              "</style>\n",
              "<table border=\"1\" class=\"dataframe\">\n",
              "  <thead>\n",
              "    <tr style=\"text-align: right;\">\n",
              "      <th></th>\n",
              "      <th>Time</th>\n",
              "      <th>V1</th>\n",
              "      <th>V2</th>\n",
              "      <th>V3</th>\n",
              "      <th>V4</th>\n",
              "      <th>V5</th>\n",
              "      <th>V6</th>\n",
              "      <th>V7</th>\n",
              "      <th>V8</th>\n",
              "      <th>V9</th>\n",
              "      <th>V10</th>\n",
              "      <th>V11</th>\n",
              "      <th>V12</th>\n",
              "      <th>V13</th>\n",
              "      <th>V14</th>\n",
              "      <th>V15</th>\n",
              "      <th>V16</th>\n",
              "      <th>V17</th>\n",
              "      <th>V18</th>\n",
              "      <th>V19</th>\n",
              "      <th>V20</th>\n",
              "      <th>V21</th>\n",
              "      <th>V22</th>\n",
              "      <th>V23</th>\n",
              "      <th>V24</th>\n",
              "      <th>V25</th>\n",
              "      <th>V26</th>\n",
              "      <th>V27</th>\n",
              "      <th>V28</th>\n",
              "      <th>Amount</th>\n",
              "      <th>Class</th>\n",
              "    </tr>\n",
              "  </thead>\n",
              "  <tbody>\n",
              "    <tr>\n",
              "      <th>45640</th>\n",
              "      <td>42436</td>\n",
              "      <td>1.330967</td>\n",
              "      <td>0.662949</td>\n",
              "      <td>-1.089077</td>\n",
              "      <td>0.425743</td>\n",
              "      <td>0.946620</td>\n",
              "      <td>-0.324689</td>\n",
              "      <td>0.366117</td>\n",
              "      <td>-0.157143</td>\n",
              "      <td>-0.528674</td>\n",
              "      <td>-0.579607</td>\n",
              "      <td>0.896037</td>\n",
              "      <td>0.782021</td>\n",
              "      <td>1.353176</td>\n",
              "      <td>-1.438456</td>\n",
              "      <td>0.225836</td>\n",
              "      <td>1.083309</td>\n",
              "      <td>0.218131</td>\n",
              "      <td>1.046931</td>\n",
              "      <td>0.427152</td>\n",
              "      <td>0.067418</td>\n",
              "      <td>-0.176830</td>\n",
              "      <td>-0.418278</td>\n",
              "      <td>-0.279397</td>\n",
              "      <td>-1.107096</td>\n",
              "      <td>0.765716</td>\n",
              "      <td>0.431469</td>\n",
              "      <td>-0.027864</td>\n",
              "      <td>0.021672</td>\n",
              "      <td>0.76</td>\n",
              "      <td>0.0</td>\n",
              "    </tr>\n",
              "    <tr>\n",
              "      <th>45641</th>\n",
              "      <td>42436</td>\n",
              "      <td>-2.481639</td>\n",
              "      <td>-2.439949</td>\n",
              "      <td>0.363642</td>\n",
              "      <td>1.216827</td>\n",
              "      <td>2.572442</td>\n",
              "      <td>-1.264220</td>\n",
              "      <td>-0.443652</td>\n",
              "      <td>0.075853</td>\n",
              "      <td>0.073188</td>\n",
              "      <td>0.097421</td>\n",
              "      <td>-1.339838</td>\n",
              "      <td>-0.596440</td>\n",
              "      <td>-0.692792</td>\n",
              "      <td>0.278758</td>\n",
              "      <td>0.871242</td>\n",
              "      <td>-0.750009</td>\n",
              "      <td>0.282120</td>\n",
              "      <td>-0.317401</td>\n",
              "      <td>1.357643</td>\n",
              "      <td>-0.221691</td>\n",
              "      <td>-0.039426</td>\n",
              "      <td>0.480591</td>\n",
              "      <td>1.779358</td>\n",
              "      <td>-0.756700</td>\n",
              "      <td>-0.161099</td>\n",
              "      <td>0.685617</td>\n",
              "      <td>0.223071</td>\n",
              "      <td>0.139619</td>\n",
              "      <td>0.00</td>\n",
              "      <td>0.0</td>\n",
              "    </tr>\n",
              "    <tr>\n",
              "      <th>45642</th>\n",
              "      <td>42436</td>\n",
              "      <td>1.223475</td>\n",
              "      <td>0.014944</td>\n",
              "      <td>0.471312</td>\n",
              "      <td>-0.038410</td>\n",
              "      <td>-0.566793</td>\n",
              "      <td>-0.867970</td>\n",
              "      <td>-0.058213</td>\n",
              "      <td>-0.144080</td>\n",
              "      <td>0.164904</td>\n",
              "      <td>-0.248839</td>\n",
              "      <td>0.363145</td>\n",
              "      <td>0.615128</td>\n",
              "      <td>0.421817</td>\n",
              "      <td>0.206175</td>\n",
              "      <td>1.320600</td>\n",
              "      <td>-0.150154</td>\n",
              "      <td>0.071375</td>\n",
              "      <td>-1.101733</td>\n",
              "      <td>-0.414879</td>\n",
              "      <td>-0.076754</td>\n",
              "      <td>-0.053292</td>\n",
              "      <td>-0.093680</td>\n",
              "      <td>0.106348</td>\n",
              "      <td>0.471407</td>\n",
              "      <td>0.135555</td>\n",
              "      <td>0.968336</td>\n",
              "      <td>-0.065171</td>\n",
              "      <td>0.005184</td>\n",
              "      <td>7.49</td>\n",
              "      <td>0.0</td>\n",
              "    </tr>\n",
              "    <tr>\n",
              "      <th>45643</th>\n",
              "      <td>42436</td>\n",
              "      <td>1.258657</td>\n",
              "      <td>0.421016</td>\n",
              "      <td>0.325437</td>\n",
              "      <td>0.684259</td>\n",
              "      <td>-0.292529</td>\n",
              "      <td>-1.052786</td>\n",
              "      <td>0.145228</td>\n",
              "      <td>-0.253567</td>\n",
              "      <td>-0.100521</td>\n",
              "      <td>-0.308072</td>\n",
              "      <td>0.083964</td>\n",
              "      <td>0.702541</td>\n",
              "      <td>1.104821</td>\n",
              "      <td>-0.462648</td>\n",
              "      <td>0.997369</td>\n",
              "      <td>0.437119</td>\n",
              "      <td>-0.055465</td>\n",
              "      <td>-0.407290</td>\n",
              "      <td>-0.204127</td>\n",
              "      <td>-0.026262</td>\n",
              "      <td>-0.278029</td>\n",
              "      <td>-0.757417</td>\n",
              "      <td>0.119613</td>\n",
              "      <td>0.369393</td>\n",
              "      <td>0.246145</td>\n",
              "      <td>0.091553</td>\n",
              "      <td>-0.017156</td>\n",
              "      <td>0.032557</td>\n",
              "      <td>0.89</td>\n",
              "      <td>0.0</td>\n",
              "    </tr>\n",
              "    <tr>\n",
              "      <th>45644</th>\n",
              "      <td>42437</td>\n",
              "      <td>-0.500147</td>\n",
              "      <td>1.000770</td>\n",
              "      <td>1.809639</td>\n",
              "      <td>-0.114551</td>\n",
              "      <td>0.333865</td>\n",
              "      <td>-0.577076</td>\n",
              "      <td>1.062325</td>\n",
              "      <td>-0.513050</td>\n",
              "      <td>-0.048285</td>\n",
              "      <td>0.314582</td>\n",
              "      <td>0.369958</td>\n",
              "      <td>0.304582</td>\n",
              "      <td>0.527437</td>\n",
              "      <td>-0.395232</td>\n",
              "      <td>1.013454</td>\n",
              "      <td>-0.431934</td>\n",
              "      <td>-0.274147</td>\n",
              "      <td>-1.039753</td>\n",
              "      <td>-0.462377</td>\n",
              "      <td>0.182763</td>\n",
              "      <td>-0.193814</td>\n",
              "      <td>-0.161410</td>\n",
              "      <td>0.036965</td>\n",
              "      <td>0.400154</td>\n",
              "      <td>-0.802486</td>\n",
              "      <td>-0.076097</td>\n",
              "      <td>-0.214317</td>\n",
              "      <td>-0.229160</td>\n",
              "      <td>2.69</td>\n",
              "      <td>0.0</td>\n",
              "    </tr>\n",
              "  </tbody>\n",
              "</table>\n",
              "</div>"
            ],
            "text/plain": [
              "        Time        V1        V2        V3        V4        V5        V6  \\\n",
              "45640  42436  1.330967  0.662949 -1.089077  0.425743  0.946620 -0.324689   \n",
              "45641  42436 -2.481639 -2.439949  0.363642  1.216827  2.572442 -1.264220   \n",
              "45642  42436  1.223475  0.014944  0.471312 -0.038410 -0.566793 -0.867970   \n",
              "45643  42436  1.258657  0.421016  0.325437  0.684259 -0.292529 -1.052786   \n",
              "45644  42437 -0.500147  1.000770  1.809639 -0.114551  0.333865 -0.577076   \n",
              "\n",
              "             V7        V8        V9       V10       V11       V12       V13  \\\n",
              "45640  0.366117 -0.157143 -0.528674 -0.579607  0.896037  0.782021  1.353176   \n",
              "45641 -0.443652  0.075853  0.073188  0.097421 -1.339838 -0.596440 -0.692792   \n",
              "45642 -0.058213 -0.144080  0.164904 -0.248839  0.363145  0.615128  0.421817   \n",
              "45643  0.145228 -0.253567 -0.100521 -0.308072  0.083964  0.702541  1.104821   \n",
              "45644  1.062325 -0.513050 -0.048285  0.314582  0.369958  0.304582  0.527437   \n",
              "\n",
              "            V14       V15       V16       V17       V18       V19       V20  \\\n",
              "45640 -1.438456  0.225836  1.083309  0.218131  1.046931  0.427152  0.067418   \n",
              "45641  0.278758  0.871242 -0.750009  0.282120 -0.317401  1.357643 -0.221691   \n",
              "45642  0.206175  1.320600 -0.150154  0.071375 -1.101733 -0.414879 -0.076754   \n",
              "45643 -0.462648  0.997369  0.437119 -0.055465 -0.407290 -0.204127 -0.026262   \n",
              "45644 -0.395232  1.013454 -0.431934 -0.274147 -1.039753 -0.462377  0.182763   \n",
              "\n",
              "            V21       V22       V23       V24       V25       V26       V27  \\\n",
              "45640 -0.176830 -0.418278 -0.279397 -1.107096  0.765716  0.431469 -0.027864   \n",
              "45641 -0.039426  0.480591  1.779358 -0.756700 -0.161099  0.685617  0.223071   \n",
              "45642 -0.053292 -0.093680  0.106348  0.471407  0.135555  0.968336 -0.065171   \n",
              "45643 -0.278029 -0.757417  0.119613  0.369393  0.246145  0.091553 -0.017156   \n",
              "45644 -0.193814 -0.161410  0.036965  0.400154 -0.802486 -0.076097 -0.214317   \n",
              "\n",
              "            V28  Amount  Class  \n",
              "45640  0.021672    0.76    0.0  \n",
              "45641  0.139619    0.00    0.0  \n",
              "45642  0.005184    7.49    0.0  \n",
              "45643  0.032557    0.89    0.0  \n",
              "45644 -0.229160    2.69    0.0  "
            ]
          },
          "metadata": {
            "tags": []
          },
          "execution_count": 99
        }
      ]
    },
    {
      "cell_type": "code",
      "metadata": {
        "colab": {
          "base_uri": "https://localhost:8080/"
        },
        "id": "xHuxT7YrnyUE",
        "outputId": "c2536e41-7e7a-42a8-faca-407329604c5d"
      },
      "source": [
        "df.value_counts(normalize=True)"
      ],
      "execution_count": 100,
      "outputs": [
        {
          "output_type": "execute_result",
          "data": {
            "text/plain": [
              "Time   V1        V2         V3         V4         V5         V6         V7         V8         V9         V10        V11        V12        V13        V14        V15        V16        V17        V18        V19        V20        V21        V22        V23        V24        V25       V26        V27        V28       Amount  Class\n",
              "34700  1.107981  -0.197282   1.354658   0.800111  -1.102894  -0.088586  -0.678751   0.176166   0.583884  -0.089457   1.231096   1.452294   0.403263  -0.291173  -0.567763   0.277839  -0.377429   0.135271   0.165867  -0.048710  -0.015908   0.115613   0.030597   0.584963  0.209817   0.284387   0.014954  0.021601  17.39   0.0      0.000088\n",
              "39897  1.107829  -0.308617   1.096717   0.693355  -0.900647   0.219585  -0.698186   0.234457   0.690956  -0.083681   0.672337   1.019813   0.017692  -0.222940  -0.472589   0.458890  -0.543352   0.372920   0.363896  -0.022280  -0.044824  -0.033311  -0.045893   0.053099  0.257790   0.316330   0.007340  0.018674  36.80   0.0      0.000088\n",
              "31964  1.202754   0.395072   0.233037   1.237243  -0.012361  -0.508524   0.279064  -0.146587  -0.362003   0.135150   1.231756   1.549810   0.820271   0.239401  -0.824368  -0.228037  -0.423158  -0.069722   0.154799  -0.094652   0.026782   0.258716  -0.169719   0.386205  0.845610  -0.281712   0.012573  0.005457  1.00    0.0      0.000088\n",
              "33619  1.163253  -0.014139   1.272299   1.420947  -0.926893  -0.121972  -0.519157   0.093523   0.977292  -0.266822  -0.905094   0.702923   0.128559  -0.505703  -0.442527  -0.214268  -0.039784  -0.336555   0.023341  -0.152478  -0.180902  -0.219039   0.020564   0.398989  0.448507  -0.456745   0.075666  0.035279  1.00    0.0      0.000088\n",
              "24646  1.100828   0.115819   1.539031   1.643405  -0.753781   0.227847  -0.629308   0.085986   2.116901  -0.705141   0.689061  -1.192302   2.479713   0.819953  -1.038317  -0.667817   1.044128  -0.714929  -0.666192  -0.187548  -0.273328  -0.166427   0.092607   0.374218  0.335810  -0.488461   0.070995  0.030446  1.00    0.0      0.000088\n",
              "                                                                                                                                                                                                                                                                                                                                           ...   \n",
              "35901  1.118122  -0.596972   0.281785   0.608207  -0.866586  -0.366783  -0.335181  -0.017970  -0.855919   0.830196  -0.677260  -0.827100  -1.155738   0.520012   1.210480  -1.566349   0.150201   1.025483  -1.615182  -0.482563  -0.223866  -0.376678  -0.063233  -0.001443  0.405208  -0.254226   0.033250  0.036612  99.00   0.0      0.000022\n",
              "35900  1.177025   0.573659  -0.378238   1.067256   0.448319  -0.210602   0.121267   0.052305  -0.349204  -0.445730   1.697737   0.704798   0.099041  -0.882524   0.614997   0.495542   0.571303   0.597852  -0.529219  -0.104290   0.007789   0.102182  -0.144865  -0.411959  0.638281  -0.295551   0.045285  0.034714  1.00    0.0      0.000022\n",
              "35899  1.387402  -1.247700   0.658385  -1.476512  -1.620395  -0.258452  -1.263674  -0.014959  -1.919455   1.558467   0.977248  -0.041404   1.106021  -0.417492   0.111341   0.125204  -0.027769   0.855301  -0.045213  -0.165782   0.004266   0.310334  -0.102327   0.019499  0.355669  -0.107387   0.042100  0.023271  60.00   0.0      0.000022\n",
              "       1.174402   0.202369   0.703611   0.699166  -0.562448  -0.828409  -0.005845  -0.097709   0.015463  -0.109733   0.469423   0.591852   0.130088   0.314599   1.253110  -0.141229   0.053188  -1.155593  -0.678388  -0.141466  -0.194011  -0.539286   0.230337   0.599360  0.070123   0.091229  -0.012855  0.021319  4.47    0.0      0.000022\n",
              "0      1.191857   0.266151   0.166480   0.448154   0.060018  -0.082361  -0.078803   0.085102  -0.255425  -0.166974   1.612727   1.065235   0.489095  -0.143772   0.635558   0.463917  -0.114805  -0.183361  -0.145783  -0.069083  -0.225775  -0.638672   0.101288  -0.339846  0.167170   0.125895  -0.008983  0.014724  2.69    0.0      0.000022\n",
              "Length: 45448, dtype: float64"
            ]
          },
          "metadata": {
            "tags": []
          },
          "execution_count": 100
        }
      ]
    },
    {
      "cell_type": "code",
      "metadata": {
        "colab": {
          "base_uri": "https://localhost:8080/"
        },
        "id": "QPr--Q01pf1Y",
        "outputId": "901c8f87-e6a2-49b5-e79f-21a074e3b3c6"
      },
      "source": [
        "df.info"
      ],
      "execution_count": 101,
      "outputs": [
        {
          "output_type": "execute_result",
          "data": {
            "text/plain": [
              "<bound method DataFrame.info of         Time        V1        V2        V3        V4        V5        V6  \\\n",
              "1          0  1.191857  0.266151  0.166480  0.448154  0.060018 -0.082361   \n",
              "2          1 -1.358354 -1.340163  1.773209  0.379780 -0.503198  1.800499   \n",
              "3          1 -0.966272 -0.185226  1.792993 -0.863291 -0.010309  1.247203   \n",
              "4          2 -1.158233  0.877737  1.548718  0.403034 -0.407193  0.095921   \n",
              "5          2 -0.425966  0.960523  1.141109 -0.168252  0.420987 -0.029728   \n",
              "...      ...       ...       ...       ...       ...       ...       ...   \n",
              "45640  42436  1.330967  0.662949 -1.089077  0.425743  0.946620 -0.324689   \n",
              "45641  42436 -2.481639 -2.439949  0.363642  1.216827  2.572442 -1.264220   \n",
              "45642  42436  1.223475  0.014944  0.471312 -0.038410 -0.566793 -0.867970   \n",
              "45643  42436  1.258657  0.421016  0.325437  0.684259 -0.292529 -1.052786   \n",
              "45644  42437 -0.500147  1.000770  1.809639 -0.114551  0.333865 -0.577076   \n",
              "\n",
              "             V7        V8        V9       V10       V11       V12       V13  \\\n",
              "1     -0.078803  0.085102 -0.255425 -0.166974  1.612727  1.065235  0.489095   \n",
              "2      0.791461  0.247676 -1.514654  0.207643  0.624501  0.066084  0.717293   \n",
              "3      0.237609  0.377436 -1.387024 -0.054952 -0.226487  0.178228  0.507757   \n",
              "4      0.592941 -0.270533  0.817739  0.753074 -0.822843  0.538196  1.345852   \n",
              "5      0.476201  0.260314 -0.568671 -0.371407  1.341262  0.359894 -0.358091   \n",
              "...         ...       ...       ...       ...       ...       ...       ...   \n",
              "45640  0.366117 -0.157143 -0.528674 -0.579607  0.896037  0.782021  1.353176   \n",
              "45641 -0.443652  0.075853  0.073188  0.097421 -1.339838 -0.596440 -0.692792   \n",
              "45642 -0.058213 -0.144080  0.164904 -0.248839  0.363145  0.615128  0.421817   \n",
              "45643  0.145228 -0.253567 -0.100521 -0.308072  0.083964  0.702541  1.104821   \n",
              "45644  1.062325 -0.513050 -0.048285  0.314582  0.369958  0.304582  0.527437   \n",
              "\n",
              "            V14       V15       V16       V17       V18       V19       V20  \\\n",
              "1     -0.143772  0.635558  0.463917 -0.114805 -0.183361 -0.145783 -0.069083   \n",
              "2     -0.165946  2.345865 -2.890083  1.109969 -0.121359 -2.261857  0.524980   \n",
              "3     -0.287924 -0.631418 -1.059647 -0.684093  1.965775 -1.232622 -0.208038   \n",
              "4     -1.119670  0.175121 -0.451449 -0.237033 -0.038195  0.803487  0.408542   \n",
              "5     -0.137134  0.517617  0.401726 -0.058133  0.068653 -0.033194  0.084968   \n",
              "...         ...       ...       ...       ...       ...       ...       ...   \n",
              "45640 -1.438456  0.225836  1.083309  0.218131  1.046931  0.427152  0.067418   \n",
              "45641  0.278758  0.871242 -0.750009  0.282120 -0.317401  1.357643 -0.221691   \n",
              "45642  0.206175  1.320600 -0.150154  0.071375 -1.101733 -0.414879 -0.076754   \n",
              "45643 -0.462648  0.997369  0.437119 -0.055465 -0.407290 -0.204127 -0.026262   \n",
              "45644 -0.395232  1.013454 -0.431934 -0.274147 -1.039753 -0.462377  0.182763   \n",
              "\n",
              "            V21       V22       V23       V24       V25       V26       V27  \\\n",
              "1     -0.225775 -0.638672  0.101288 -0.339846  0.167170  0.125895 -0.008983   \n",
              "2      0.247998  0.771679  0.909412 -0.689281 -0.327642 -0.139097 -0.055353   \n",
              "3     -0.108300  0.005274 -0.190321 -1.175575  0.647376 -0.221929  0.062723   \n",
              "4     -0.009431  0.798278 -0.137458  0.141267 -0.206010  0.502292  0.219422   \n",
              "5     -0.208254 -0.559825 -0.026398 -0.371427 -0.232794  0.105915  0.253844   \n",
              "...         ...       ...       ...       ...       ...       ...       ...   \n",
              "45640 -0.176830 -0.418278 -0.279397 -1.107096  0.765716  0.431469 -0.027864   \n",
              "45641 -0.039426  0.480591  1.779358 -0.756700 -0.161099  0.685617  0.223071   \n",
              "45642 -0.053292 -0.093680  0.106348  0.471407  0.135555  0.968336 -0.065171   \n",
              "45643 -0.278029 -0.757417  0.119613  0.369393  0.246145  0.091553 -0.017156   \n",
              "45644 -0.193814 -0.161410  0.036965  0.400154 -0.802486 -0.076097 -0.214317   \n",
              "\n",
              "            V28  Amount  Class  \n",
              "1      0.014724    2.69    0.0  \n",
              "2     -0.059752  378.66    0.0  \n",
              "3      0.061458  123.50    0.0  \n",
              "4      0.215153   69.99    0.0  \n",
              "5      0.081080    3.67    0.0  \n",
              "...         ...     ...    ...  \n",
              "45640  0.021672    0.76    0.0  \n",
              "45641  0.139619    0.00    0.0  \n",
              "45642  0.005184    7.49    0.0  \n",
              "45643  0.032557    0.89    0.0  \n",
              "45644 -0.229160    2.69    0.0  \n",
              "\n",
              "[45644 rows x 31 columns]>"
            ]
          },
          "metadata": {
            "tags": []
          },
          "execution_count": 101
        }
      ]
    },
    {
      "cell_type": "code",
      "metadata": {
        "colab": {
          "base_uri": "https://localhost:8080/",
          "height": 379
        },
        "id": "kE_phvbHpIU6",
        "outputId": "0ecefe6c-a944-48ee-9756-e216639ed791"
      },
      "source": [
        "pd.options.display.max_columns = 100\n",
        "df.head(10)"
      ],
      "execution_count": 102,
      "outputs": [
        {
          "output_type": "execute_result",
          "data": {
            "text/html": [
              "<div>\n",
              "<style scoped>\n",
              "    .dataframe tbody tr th:only-of-type {\n",
              "        vertical-align: middle;\n",
              "    }\n",
              "\n",
              "    .dataframe tbody tr th {\n",
              "        vertical-align: top;\n",
              "    }\n",
              "\n",
              "    .dataframe thead th {\n",
              "        text-align: right;\n",
              "    }\n",
              "</style>\n",
              "<table border=\"1\" class=\"dataframe\">\n",
              "  <thead>\n",
              "    <tr style=\"text-align: right;\">\n",
              "      <th></th>\n",
              "      <th>Time</th>\n",
              "      <th>V1</th>\n",
              "      <th>V2</th>\n",
              "      <th>V3</th>\n",
              "      <th>V4</th>\n",
              "      <th>V5</th>\n",
              "      <th>V6</th>\n",
              "      <th>V7</th>\n",
              "      <th>V8</th>\n",
              "      <th>V9</th>\n",
              "      <th>V10</th>\n",
              "      <th>V11</th>\n",
              "      <th>V12</th>\n",
              "      <th>V13</th>\n",
              "      <th>V14</th>\n",
              "      <th>V15</th>\n",
              "      <th>V16</th>\n",
              "      <th>V17</th>\n",
              "      <th>V18</th>\n",
              "      <th>V19</th>\n",
              "      <th>V20</th>\n",
              "      <th>V21</th>\n",
              "      <th>V22</th>\n",
              "      <th>V23</th>\n",
              "      <th>V24</th>\n",
              "      <th>V25</th>\n",
              "      <th>V26</th>\n",
              "      <th>V27</th>\n",
              "      <th>V28</th>\n",
              "      <th>Amount</th>\n",
              "      <th>Class</th>\n",
              "    </tr>\n",
              "  </thead>\n",
              "  <tbody>\n",
              "    <tr>\n",
              "      <th>1</th>\n",
              "      <td>0</td>\n",
              "      <td>1.191857</td>\n",
              "      <td>0.266151</td>\n",
              "      <td>0.166480</td>\n",
              "      <td>0.448154</td>\n",
              "      <td>0.060018</td>\n",
              "      <td>-0.082361</td>\n",
              "      <td>-0.078803</td>\n",
              "      <td>0.085102</td>\n",
              "      <td>-0.255425</td>\n",
              "      <td>-0.166974</td>\n",
              "      <td>1.612727</td>\n",
              "      <td>1.065235</td>\n",
              "      <td>0.489095</td>\n",
              "      <td>-0.143772</td>\n",
              "      <td>0.635558</td>\n",
              "      <td>0.463917</td>\n",
              "      <td>-0.114805</td>\n",
              "      <td>-0.183361</td>\n",
              "      <td>-0.145783</td>\n",
              "      <td>-0.069083</td>\n",
              "      <td>-0.225775</td>\n",
              "      <td>-0.638672</td>\n",
              "      <td>0.101288</td>\n",
              "      <td>-0.339846</td>\n",
              "      <td>0.167170</td>\n",
              "      <td>0.125895</td>\n",
              "      <td>-0.008983</td>\n",
              "      <td>0.014724</td>\n",
              "      <td>2.69</td>\n",
              "      <td>0.0</td>\n",
              "    </tr>\n",
              "    <tr>\n",
              "      <th>2</th>\n",
              "      <td>1</td>\n",
              "      <td>-1.358354</td>\n",
              "      <td>-1.340163</td>\n",
              "      <td>1.773209</td>\n",
              "      <td>0.379780</td>\n",
              "      <td>-0.503198</td>\n",
              "      <td>1.800499</td>\n",
              "      <td>0.791461</td>\n",
              "      <td>0.247676</td>\n",
              "      <td>-1.514654</td>\n",
              "      <td>0.207643</td>\n",
              "      <td>0.624501</td>\n",
              "      <td>0.066084</td>\n",
              "      <td>0.717293</td>\n",
              "      <td>-0.165946</td>\n",
              "      <td>2.345865</td>\n",
              "      <td>-2.890083</td>\n",
              "      <td>1.109969</td>\n",
              "      <td>-0.121359</td>\n",
              "      <td>-2.261857</td>\n",
              "      <td>0.524980</td>\n",
              "      <td>0.247998</td>\n",
              "      <td>0.771679</td>\n",
              "      <td>0.909412</td>\n",
              "      <td>-0.689281</td>\n",
              "      <td>-0.327642</td>\n",
              "      <td>-0.139097</td>\n",
              "      <td>-0.055353</td>\n",
              "      <td>-0.059752</td>\n",
              "      <td>378.66</td>\n",
              "      <td>0.0</td>\n",
              "    </tr>\n",
              "    <tr>\n",
              "      <th>3</th>\n",
              "      <td>1</td>\n",
              "      <td>-0.966272</td>\n",
              "      <td>-0.185226</td>\n",
              "      <td>1.792993</td>\n",
              "      <td>-0.863291</td>\n",
              "      <td>-0.010309</td>\n",
              "      <td>1.247203</td>\n",
              "      <td>0.237609</td>\n",
              "      <td>0.377436</td>\n",
              "      <td>-1.387024</td>\n",
              "      <td>-0.054952</td>\n",
              "      <td>-0.226487</td>\n",
              "      <td>0.178228</td>\n",
              "      <td>0.507757</td>\n",
              "      <td>-0.287924</td>\n",
              "      <td>-0.631418</td>\n",
              "      <td>-1.059647</td>\n",
              "      <td>-0.684093</td>\n",
              "      <td>1.965775</td>\n",
              "      <td>-1.232622</td>\n",
              "      <td>-0.208038</td>\n",
              "      <td>-0.108300</td>\n",
              "      <td>0.005274</td>\n",
              "      <td>-0.190321</td>\n",
              "      <td>-1.175575</td>\n",
              "      <td>0.647376</td>\n",
              "      <td>-0.221929</td>\n",
              "      <td>0.062723</td>\n",
              "      <td>0.061458</td>\n",
              "      <td>123.50</td>\n",
              "      <td>0.0</td>\n",
              "    </tr>\n",
              "    <tr>\n",
              "      <th>4</th>\n",
              "      <td>2</td>\n",
              "      <td>-1.158233</td>\n",
              "      <td>0.877737</td>\n",
              "      <td>1.548718</td>\n",
              "      <td>0.403034</td>\n",
              "      <td>-0.407193</td>\n",
              "      <td>0.095921</td>\n",
              "      <td>0.592941</td>\n",
              "      <td>-0.270533</td>\n",
              "      <td>0.817739</td>\n",
              "      <td>0.753074</td>\n",
              "      <td>-0.822843</td>\n",
              "      <td>0.538196</td>\n",
              "      <td>1.345852</td>\n",
              "      <td>-1.119670</td>\n",
              "      <td>0.175121</td>\n",
              "      <td>-0.451449</td>\n",
              "      <td>-0.237033</td>\n",
              "      <td>-0.038195</td>\n",
              "      <td>0.803487</td>\n",
              "      <td>0.408542</td>\n",
              "      <td>-0.009431</td>\n",
              "      <td>0.798278</td>\n",
              "      <td>-0.137458</td>\n",
              "      <td>0.141267</td>\n",
              "      <td>-0.206010</td>\n",
              "      <td>0.502292</td>\n",
              "      <td>0.219422</td>\n",
              "      <td>0.215153</td>\n",
              "      <td>69.99</td>\n",
              "      <td>0.0</td>\n",
              "    </tr>\n",
              "    <tr>\n",
              "      <th>5</th>\n",
              "      <td>2</td>\n",
              "      <td>-0.425966</td>\n",
              "      <td>0.960523</td>\n",
              "      <td>1.141109</td>\n",
              "      <td>-0.168252</td>\n",
              "      <td>0.420987</td>\n",
              "      <td>-0.029728</td>\n",
              "      <td>0.476201</td>\n",
              "      <td>0.260314</td>\n",
              "      <td>-0.568671</td>\n",
              "      <td>-0.371407</td>\n",
              "      <td>1.341262</td>\n",
              "      <td>0.359894</td>\n",
              "      <td>-0.358091</td>\n",
              "      <td>-0.137134</td>\n",
              "      <td>0.517617</td>\n",
              "      <td>0.401726</td>\n",
              "      <td>-0.058133</td>\n",
              "      <td>0.068653</td>\n",
              "      <td>-0.033194</td>\n",
              "      <td>0.084968</td>\n",
              "      <td>-0.208254</td>\n",
              "      <td>-0.559825</td>\n",
              "      <td>-0.026398</td>\n",
              "      <td>-0.371427</td>\n",
              "      <td>-0.232794</td>\n",
              "      <td>0.105915</td>\n",
              "      <td>0.253844</td>\n",
              "      <td>0.081080</td>\n",
              "      <td>3.67</td>\n",
              "      <td>0.0</td>\n",
              "    </tr>\n",
              "    <tr>\n",
              "      <th>6</th>\n",
              "      <td>4</td>\n",
              "      <td>1.229658</td>\n",
              "      <td>0.141004</td>\n",
              "      <td>0.045371</td>\n",
              "      <td>1.202613</td>\n",
              "      <td>0.191881</td>\n",
              "      <td>0.272708</td>\n",
              "      <td>-0.005159</td>\n",
              "      <td>0.081213</td>\n",
              "      <td>0.464960</td>\n",
              "      <td>-0.099254</td>\n",
              "      <td>-1.416907</td>\n",
              "      <td>-0.153826</td>\n",
              "      <td>-0.751063</td>\n",
              "      <td>0.167372</td>\n",
              "      <td>0.050144</td>\n",
              "      <td>-0.443587</td>\n",
              "      <td>0.002821</td>\n",
              "      <td>-0.611987</td>\n",
              "      <td>-0.045575</td>\n",
              "      <td>-0.219633</td>\n",
              "      <td>-0.167716</td>\n",
              "      <td>-0.270710</td>\n",
              "      <td>-0.154104</td>\n",
              "      <td>-0.780055</td>\n",
              "      <td>0.750137</td>\n",
              "      <td>-0.257237</td>\n",
              "      <td>0.034507</td>\n",
              "      <td>0.005168</td>\n",
              "      <td>4.99</td>\n",
              "      <td>0.0</td>\n",
              "    </tr>\n",
              "    <tr>\n",
              "      <th>7</th>\n",
              "      <td>7</td>\n",
              "      <td>-0.644269</td>\n",
              "      <td>1.417964</td>\n",
              "      <td>1.074380</td>\n",
              "      <td>-0.492199</td>\n",
              "      <td>0.948934</td>\n",
              "      <td>0.428118</td>\n",
              "      <td>1.120631</td>\n",
              "      <td>-3.807864</td>\n",
              "      <td>0.615375</td>\n",
              "      <td>1.249376</td>\n",
              "      <td>-0.619468</td>\n",
              "      <td>0.291474</td>\n",
              "      <td>1.757964</td>\n",
              "      <td>-1.323865</td>\n",
              "      <td>0.686133</td>\n",
              "      <td>-0.076127</td>\n",
              "      <td>-1.222127</td>\n",
              "      <td>-0.358222</td>\n",
              "      <td>0.324505</td>\n",
              "      <td>-0.156742</td>\n",
              "      <td>1.943465</td>\n",
              "      <td>-1.015455</td>\n",
              "      <td>0.057504</td>\n",
              "      <td>-0.649709</td>\n",
              "      <td>-0.415267</td>\n",
              "      <td>-0.051634</td>\n",
              "      <td>-1.206921</td>\n",
              "      <td>-1.085339</td>\n",
              "      <td>40.80</td>\n",
              "      <td>0.0</td>\n",
              "    </tr>\n",
              "    <tr>\n",
              "      <th>8</th>\n",
              "      <td>7</td>\n",
              "      <td>-0.894286</td>\n",
              "      <td>0.286157</td>\n",
              "      <td>-0.113192</td>\n",
              "      <td>-0.271526</td>\n",
              "      <td>2.669599</td>\n",
              "      <td>3.721818</td>\n",
              "      <td>0.370145</td>\n",
              "      <td>0.851084</td>\n",
              "      <td>-0.392048</td>\n",
              "      <td>-0.410430</td>\n",
              "      <td>-0.705117</td>\n",
              "      <td>-0.110452</td>\n",
              "      <td>-0.286254</td>\n",
              "      <td>0.074355</td>\n",
              "      <td>-0.328783</td>\n",
              "      <td>-0.210077</td>\n",
              "      <td>-0.499768</td>\n",
              "      <td>0.118765</td>\n",
              "      <td>0.570328</td>\n",
              "      <td>0.052736</td>\n",
              "      <td>-0.073425</td>\n",
              "      <td>-0.268092</td>\n",
              "      <td>-0.204233</td>\n",
              "      <td>1.011592</td>\n",
              "      <td>0.373205</td>\n",
              "      <td>-0.384157</td>\n",
              "      <td>0.011747</td>\n",
              "      <td>0.142404</td>\n",
              "      <td>93.20</td>\n",
              "      <td>0.0</td>\n",
              "    </tr>\n",
              "    <tr>\n",
              "      <th>9</th>\n",
              "      <td>9</td>\n",
              "      <td>-0.338262</td>\n",
              "      <td>1.119593</td>\n",
              "      <td>1.044367</td>\n",
              "      <td>-0.222187</td>\n",
              "      <td>0.499361</td>\n",
              "      <td>-0.246761</td>\n",
              "      <td>0.651583</td>\n",
              "      <td>0.069539</td>\n",
              "      <td>-0.736727</td>\n",
              "      <td>-0.366846</td>\n",
              "      <td>1.017614</td>\n",
              "      <td>0.836390</td>\n",
              "      <td>1.006844</td>\n",
              "      <td>-0.443523</td>\n",
              "      <td>0.150219</td>\n",
              "      <td>0.739453</td>\n",
              "      <td>-0.540980</td>\n",
              "      <td>0.476677</td>\n",
              "      <td>0.451773</td>\n",
              "      <td>0.203711</td>\n",
              "      <td>-0.246914</td>\n",
              "      <td>-0.633753</td>\n",
              "      <td>-0.120794</td>\n",
              "      <td>-0.385050</td>\n",
              "      <td>-0.069733</td>\n",
              "      <td>0.094199</td>\n",
              "      <td>0.246219</td>\n",
              "      <td>0.083076</td>\n",
              "      <td>3.68</td>\n",
              "      <td>0.0</td>\n",
              "    </tr>\n",
              "    <tr>\n",
              "      <th>10</th>\n",
              "      <td>10</td>\n",
              "      <td>1.449044</td>\n",
              "      <td>-1.176339</td>\n",
              "      <td>0.913860</td>\n",
              "      <td>-1.375667</td>\n",
              "      <td>-1.971383</td>\n",
              "      <td>-0.629152</td>\n",
              "      <td>-1.423236</td>\n",
              "      <td>0.048456</td>\n",
              "      <td>-1.720408</td>\n",
              "      <td>1.626659</td>\n",
              "      <td>1.199644</td>\n",
              "      <td>-0.671440</td>\n",
              "      <td>-0.513947</td>\n",
              "      <td>-0.095045</td>\n",
              "      <td>0.230930</td>\n",
              "      <td>0.031967</td>\n",
              "      <td>0.253415</td>\n",
              "      <td>0.854344</td>\n",
              "      <td>-0.221365</td>\n",
              "      <td>-0.387226</td>\n",
              "      <td>-0.009302</td>\n",
              "      <td>0.313894</td>\n",
              "      <td>0.027740</td>\n",
              "      <td>0.500512</td>\n",
              "      <td>0.251367</td>\n",
              "      <td>-0.129478</td>\n",
              "      <td>0.042850</td>\n",
              "      <td>0.016253</td>\n",
              "      <td>7.80</td>\n",
              "      <td>0.0</td>\n",
              "    </tr>\n",
              "  </tbody>\n",
              "</table>\n",
              "</div>"
            ],
            "text/plain": [
              "    Time        V1        V2        V3        V4        V5        V6  \\\n",
              "1      0  1.191857  0.266151  0.166480  0.448154  0.060018 -0.082361   \n",
              "2      1 -1.358354 -1.340163  1.773209  0.379780 -0.503198  1.800499   \n",
              "3      1 -0.966272 -0.185226  1.792993 -0.863291 -0.010309  1.247203   \n",
              "4      2 -1.158233  0.877737  1.548718  0.403034 -0.407193  0.095921   \n",
              "5      2 -0.425966  0.960523  1.141109 -0.168252  0.420987 -0.029728   \n",
              "6      4  1.229658  0.141004  0.045371  1.202613  0.191881  0.272708   \n",
              "7      7 -0.644269  1.417964  1.074380 -0.492199  0.948934  0.428118   \n",
              "8      7 -0.894286  0.286157 -0.113192 -0.271526  2.669599  3.721818   \n",
              "9      9 -0.338262  1.119593  1.044367 -0.222187  0.499361 -0.246761   \n",
              "10    10  1.449044 -1.176339  0.913860 -1.375667 -1.971383 -0.629152   \n",
              "\n",
              "          V7        V8        V9       V10       V11       V12       V13  \\\n",
              "1  -0.078803  0.085102 -0.255425 -0.166974  1.612727  1.065235  0.489095   \n",
              "2   0.791461  0.247676 -1.514654  0.207643  0.624501  0.066084  0.717293   \n",
              "3   0.237609  0.377436 -1.387024 -0.054952 -0.226487  0.178228  0.507757   \n",
              "4   0.592941 -0.270533  0.817739  0.753074 -0.822843  0.538196  1.345852   \n",
              "5   0.476201  0.260314 -0.568671 -0.371407  1.341262  0.359894 -0.358091   \n",
              "6  -0.005159  0.081213  0.464960 -0.099254 -1.416907 -0.153826 -0.751063   \n",
              "7   1.120631 -3.807864  0.615375  1.249376 -0.619468  0.291474  1.757964   \n",
              "8   0.370145  0.851084 -0.392048 -0.410430 -0.705117 -0.110452 -0.286254   \n",
              "9   0.651583  0.069539 -0.736727 -0.366846  1.017614  0.836390  1.006844   \n",
              "10 -1.423236  0.048456 -1.720408  1.626659  1.199644 -0.671440 -0.513947   \n",
              "\n",
              "         V14       V15       V16       V17       V18       V19       V20  \\\n",
              "1  -0.143772  0.635558  0.463917 -0.114805 -0.183361 -0.145783 -0.069083   \n",
              "2  -0.165946  2.345865 -2.890083  1.109969 -0.121359 -2.261857  0.524980   \n",
              "3  -0.287924 -0.631418 -1.059647 -0.684093  1.965775 -1.232622 -0.208038   \n",
              "4  -1.119670  0.175121 -0.451449 -0.237033 -0.038195  0.803487  0.408542   \n",
              "5  -0.137134  0.517617  0.401726 -0.058133  0.068653 -0.033194  0.084968   \n",
              "6   0.167372  0.050144 -0.443587  0.002821 -0.611987 -0.045575 -0.219633   \n",
              "7  -1.323865  0.686133 -0.076127 -1.222127 -0.358222  0.324505 -0.156742   \n",
              "8   0.074355 -0.328783 -0.210077 -0.499768  0.118765  0.570328  0.052736   \n",
              "9  -0.443523  0.150219  0.739453 -0.540980  0.476677  0.451773  0.203711   \n",
              "10 -0.095045  0.230930  0.031967  0.253415  0.854344 -0.221365 -0.387226   \n",
              "\n",
              "         V21       V22       V23       V24       V25       V26       V27  \\\n",
              "1  -0.225775 -0.638672  0.101288 -0.339846  0.167170  0.125895 -0.008983   \n",
              "2   0.247998  0.771679  0.909412 -0.689281 -0.327642 -0.139097 -0.055353   \n",
              "3  -0.108300  0.005274 -0.190321 -1.175575  0.647376 -0.221929  0.062723   \n",
              "4  -0.009431  0.798278 -0.137458  0.141267 -0.206010  0.502292  0.219422   \n",
              "5  -0.208254 -0.559825 -0.026398 -0.371427 -0.232794  0.105915  0.253844   \n",
              "6  -0.167716 -0.270710 -0.154104 -0.780055  0.750137 -0.257237  0.034507   \n",
              "7   1.943465 -1.015455  0.057504 -0.649709 -0.415267 -0.051634 -1.206921   \n",
              "8  -0.073425 -0.268092 -0.204233  1.011592  0.373205 -0.384157  0.011747   \n",
              "9  -0.246914 -0.633753 -0.120794 -0.385050 -0.069733  0.094199  0.246219   \n",
              "10 -0.009302  0.313894  0.027740  0.500512  0.251367 -0.129478  0.042850   \n",
              "\n",
              "         V28  Amount  Class  \n",
              "1   0.014724    2.69    0.0  \n",
              "2  -0.059752  378.66    0.0  \n",
              "3   0.061458  123.50    0.0  \n",
              "4   0.215153   69.99    0.0  \n",
              "5   0.081080    3.67    0.0  \n",
              "6   0.005168    4.99    0.0  \n",
              "7  -1.085339   40.80    0.0  \n",
              "8   0.142404   93.20    0.0  \n",
              "9   0.083076    3.68    0.0  \n",
              "10  0.016253    7.80    0.0  "
            ]
          },
          "metadata": {
            "tags": []
          },
          "execution_count": 102
        }
      ]
    },
    {
      "cell_type": "code",
      "metadata": {
        "id": "VAh0eaHApniR"
      },
      "source": [
        "X = df.drop(['Class'], axis = 1)\n"
      ],
      "execution_count": 103,
      "outputs": []
    },
    {
      "cell_type": "code",
      "metadata": {
        "id": "lMPKuhWLqHJN"
      },
      "source": [
        "y = df['Class']\n"
      ],
      "execution_count": 104,
      "outputs": []
    },
    {
      "cell_type": "code",
      "metadata": {
        "id": "ZsSTUCHOr3zJ"
      },
      "source": [
        "\n",
        "X_train, X_test, y_train, y_test = train_test_split(X, y, test_size=0.3, random_state=100, stratify=y)"
      ],
      "execution_count": 105,
      "outputs": []
    },
    {
      "cell_type": "code",
      "metadata": {
        "id": "nmLQZ3V5sdvk"
      },
      "source": [
        "parameters = [{'n_estimators': [10, 15],\n",
        "'max_features': np.arange(3, 5),\n",
        "'max_depth': np.arange(4, 7)}]"
      ],
      "execution_count": 106,
      "outputs": []
    },
    {
      "cell_type": "code",
      "metadata": {
        "id": "hiLEASGjyblI"
      },
      "source": [
        ""
      ],
      "execution_count": 108,
      "outputs": []
    },
    {
      "cell_type": "code",
      "metadata": {
        "id": "Fg50rYb1ye0N"
      },
      "source": [
        ""
      ],
      "execution_count": 110,
      "outputs": []
    },
    {
      "cell_type": "code",
      "metadata": {
        "id": "f4sqSYc2yiEp"
      },
      "source": [
        ""
      ],
      "execution_count": 111,
      "outputs": []
    },
    {
      "cell_type": "code",
      "metadata": {
        "colab": {
          "base_uri": "https://localhost:8080/"
        },
        "id": "wIFMTPG9ylzj",
        "outputId": "b8af63e2-b193-4ea7-d62a-72fe1aab0adc"
      },
      "source": [
        "estimator.fit(X_train, y_train)"
      ],
      "execution_count": 112,
      "outputs": [
        {
          "output_type": "execute_result",
          "data": {
            "text/plain": [
              "RandomForestClassifier(bootstrap=True, ccp_alpha=0.0, class_weight=None,\n",
              "                       criterion='gini', max_depth=None, max_features='auto',\n",
              "                       max_leaf_nodes=None, max_samples=None,\n",
              "                       min_impurity_decrease=0.0, min_impurity_split=None,\n",
              "                       min_samples_leaf=1, min_samples_split=2,\n",
              "                       min_weight_fraction_leaf=0.0, n_estimators=100,\n",
              "                       n_jobs=None, oob_score=False, random_state=100,\n",
              "                       verbose=0, warm_start=False)"
            ]
          },
          "metadata": {
            "tags": []
          },
          "execution_count": 112
        }
      ]
    },
    {
      "cell_type": "code",
      "metadata": {
        "id": "3XMvsquHy7G0"
      },
      "source": [
        "clf = GridSearchCV(estimator=RandomForestClassifier(random_state=100), param_grid=parameters,scoring='roc_auc', cv=3)"
      ],
      "execution_count": 114,
      "outputs": []
    },
    {
      "cell_type": "code",
      "metadata": {
        "colab": {
          "base_uri": "https://localhost:8080/"
        },
        "id": "xy6dKSJwzZh9",
        "outputId": "add5e069-8a2b-42a0-ff93-38bad3b412c5"
      },
      "source": [
        "clf.fit(X_train, y_train)"
      ],
      "execution_count": 119,
      "outputs": [
        {
          "output_type": "execute_result",
          "data": {
            "text/plain": [
              "GridSearchCV(cv=3, error_score=nan,\n",
              "             estimator=RandomForestClassifier(bootstrap=True, ccp_alpha=0.0,\n",
              "                                              class_weight=None,\n",
              "                                              criterion='gini', max_depth=None,\n",
              "                                              max_features='auto',\n",
              "                                              max_leaf_nodes=None,\n",
              "                                              max_samples=None,\n",
              "                                              min_impurity_decrease=0.0,\n",
              "                                              min_impurity_split=None,\n",
              "                                              min_samples_leaf=1,\n",
              "                                              min_samples_split=2,\n",
              "                                              min_weight_fraction_leaf=0.0,\n",
              "                                              n_estimators=100, n_jobs=None,\n",
              "                                              oob_score=False, random_state=100,\n",
              "                                              verbose=0, warm_start=False),\n",
              "             iid='deprecated', n_jobs=None,\n",
              "             param_grid=[{'max_depth': array([4, 5, 6]),\n",
              "                          'max_features': array([3, 4]),\n",
              "                          'n_estimators': [10, 15]}],\n",
              "             pre_dispatch='2*n_jobs', refit=True, return_train_score=False,\n",
              "             scoring='roc_auc', verbose=0)"
            ]
          },
          "metadata": {
            "tags": []
          },
          "execution_count": 119
        }
      ]
    },
    {
      "cell_type": "code",
      "metadata": {
        "colab": {
          "base_uri": "https://localhost:8080/"
        },
        "id": "nOts8Itd0O8b",
        "outputId": "775517c7-5c03-4598-bc30-4b5372a1aa6a"
      },
      "source": [
        "clf.best_params_\n"
      ],
      "execution_count": 120,
      "outputs": [
        {
          "output_type": "execute_result",
          "data": {
            "text/plain": [
              "{'max_depth': 5, 'max_features': 3, 'n_estimators': 15}"
            ]
          },
          "metadata": {
            "tags": []
          },
          "execution_count": 120
        }
      ]
    },
    {
      "cell_type": "code",
      "metadata": {
        "id": "qDYz_-tI0kf2"
      },
      "source": [
        "clf = RandomForestClassifier(max_depth=5, max_features=3, n_estimators=15)"
      ],
      "execution_count": 122,
      "outputs": []
    },
    {
      "cell_type": "code",
      "metadata": {
        "colab": {
          "base_uri": "https://localhost:8080/"
        },
        "id": "8JFa1Adu1ThI",
        "outputId": "6694db94-580f-47c6-e972-edd6433d9020"
      },
      "source": [
        "clf.fit(X_train, y_train)"
      ],
      "execution_count": 124,
      "outputs": [
        {
          "output_type": "execute_result",
          "data": {
            "text/plain": [
              "RandomForestClassifier(bootstrap=True, ccp_alpha=0.0, class_weight=None,\n",
              "                       criterion='gini', max_depth=5, max_features=3,\n",
              "                       max_leaf_nodes=None, max_samples=None,\n",
              "                       min_impurity_decrease=0.0, min_impurity_split=None,\n",
              "                       min_samples_leaf=1, min_samples_split=2,\n",
              "                       min_weight_fraction_leaf=0.0, n_estimators=15,\n",
              "                       n_jobs=None, oob_score=False, random_state=None,\n",
              "                       verbose=0, warm_start=False)"
            ]
          },
          "metadata": {
            "tags": []
          },
          "execution_count": 124
        }
      ]
    },
    {
      "cell_type": "code",
      "metadata": {
        "colab": {
          "base_uri": "https://localhost:8080/"
        },
        "id": "j5N9YdqL1v2Z",
        "outputId": "6ca6272a-77bc-4d78-a5df-1b8c0210e2c8"
      },
      "source": [
        "clf.predict_proba"
      ],
      "execution_count": 125,
      "outputs": [
        {
          "output_type": "execute_result",
          "data": {
            "text/plain": [
              "<bound method ForestClassifier.predict_proba of RandomForestClassifier(bootstrap=True, ccp_alpha=0.0, class_weight=None,\n",
              "                       criterion='gini', max_depth=5, max_features=3,\n",
              "                       max_leaf_nodes=None, max_samples=None,\n",
              "                       min_impurity_decrease=0.0, min_impurity_split=None,\n",
              "                       min_samples_leaf=1, min_samples_split=2,\n",
              "                       min_weight_fraction_leaf=0.0, n_estimators=15,\n",
              "                       n_jobs=None, oob_score=False, random_state=None,\n",
              "                       verbose=0, warm_start=False)>"
            ]
          },
          "metadata": {
            "tags": []
          },
          "execution_count": 125
        }
      ]
    },
    {
      "cell_type": "code",
      "metadata": {
        "id": "WpZqHjO-2ImU"
      },
      "source": [
        "from sklearn.metrics import roc_auc_score"
      ],
      "execution_count": 129,
      "outputs": []
    },
    {
      "cell_type": "code",
      "metadata": {
        "id": "fXGeY8PW2e4k"
      },
      "source": [
        "y_pred_proba = clf.predict(X_test)"
      ],
      "execution_count": 135,
      "outputs": []
    },
    {
      "cell_type": "code",
      "metadata": {
        "colab": {
          "base_uri": "https://localhost:8080/",
          "height": 324
        },
        "id": "H6BbD9572up2",
        "outputId": "88afd987-8881-45b8-cf79-c8c1b74ee6a6"
      },
      "source": [
        "roc_auc_score(y_test, y_pred_proba)\n",
        "roc_auc_score(y_train, y_pred_proba)"
      ],
      "execution_count": 136,
      "outputs": [
        {
          "output_type": "error",
          "ename": "ValueError",
          "evalue": "ignored",
          "traceback": [
            "\u001b[0;31m---------------------------------------------------------------------------\u001b[0m",
            "\u001b[0;31mValueError\u001b[0m                                Traceback (most recent call last)",
            "\u001b[0;32m<ipython-input-136-0b00d17a130f>\u001b[0m in \u001b[0;36m<module>\u001b[0;34m()\u001b[0m\n\u001b[1;32m      1\u001b[0m \u001b[0mroc_auc_score\u001b[0m\u001b[0;34m(\u001b[0m\u001b[0my_test\u001b[0m\u001b[0;34m,\u001b[0m \u001b[0my_pred_proba\u001b[0m\u001b[0;34m)\u001b[0m\u001b[0;34m\u001b[0m\u001b[0;34m\u001b[0m\u001b[0m\n\u001b[0;32m----> 2\u001b[0;31m \u001b[0mroc_auc_score\u001b[0m\u001b[0;34m(\u001b[0m\u001b[0my_train\u001b[0m\u001b[0;34m,\u001b[0m \u001b[0my_pred_proba\u001b[0m\u001b[0;34m)\u001b[0m\u001b[0;34m\u001b[0m\u001b[0;34m\u001b[0m\u001b[0m\n\u001b[0m",
            "\u001b[0;32m/usr/local/lib/python3.7/dist-packages/sklearn/metrics/_ranking.py\u001b[0m in \u001b[0;36mroc_auc_score\u001b[0;34m(y_true, y_score, average, sample_weight, max_fpr, multi_class, labels)\u001b[0m\n\u001b[1;32m    388\u001b[0m                                              max_fpr=max_fpr),\n\u001b[1;32m    389\u001b[0m                                      \u001b[0my_true\u001b[0m\u001b[0;34m,\u001b[0m \u001b[0my_score\u001b[0m\u001b[0;34m,\u001b[0m \u001b[0maverage\u001b[0m\u001b[0;34m,\u001b[0m\u001b[0;34m\u001b[0m\u001b[0;34m\u001b[0m\u001b[0m\n\u001b[0;32m--> 390\u001b[0;31m                                      sample_weight=sample_weight)\n\u001b[0m\u001b[1;32m    391\u001b[0m     \u001b[0;32melse\u001b[0m\u001b[0;34m:\u001b[0m  \u001b[0;31m# multilabel-indicator\u001b[0m\u001b[0;34m\u001b[0m\u001b[0;34m\u001b[0m\u001b[0m\n\u001b[1;32m    392\u001b[0m         return _average_binary_score(partial(_binary_roc_auc_score,\n",
            "\u001b[0;32m/usr/local/lib/python3.7/dist-packages/sklearn/metrics/_base.py\u001b[0m in \u001b[0;36m_average_binary_score\u001b[0;34m(binary_metric, y_true, y_score, average, sample_weight)\u001b[0m\n\u001b[1;32m     75\u001b[0m \u001b[0;34m\u001b[0m\u001b[0m\n\u001b[1;32m     76\u001b[0m     \u001b[0;32mif\u001b[0m \u001b[0my_type\u001b[0m \u001b[0;34m==\u001b[0m \u001b[0;34m\"binary\"\u001b[0m\u001b[0;34m:\u001b[0m\u001b[0;34m\u001b[0m\u001b[0;34m\u001b[0m\u001b[0m\n\u001b[0;32m---> 77\u001b[0;31m         \u001b[0;32mreturn\u001b[0m \u001b[0mbinary_metric\u001b[0m\u001b[0;34m(\u001b[0m\u001b[0my_true\u001b[0m\u001b[0;34m,\u001b[0m \u001b[0my_score\u001b[0m\u001b[0;34m,\u001b[0m \u001b[0msample_weight\u001b[0m\u001b[0;34m=\u001b[0m\u001b[0msample_weight\u001b[0m\u001b[0;34m)\u001b[0m\u001b[0;34m\u001b[0m\u001b[0;34m\u001b[0m\u001b[0m\n\u001b[0m\u001b[1;32m     78\u001b[0m \u001b[0;34m\u001b[0m\u001b[0m\n\u001b[1;32m     79\u001b[0m     \u001b[0mcheck_consistent_length\u001b[0m\u001b[0;34m(\u001b[0m\u001b[0my_true\u001b[0m\u001b[0;34m,\u001b[0m \u001b[0my_score\u001b[0m\u001b[0;34m,\u001b[0m \u001b[0msample_weight\u001b[0m\u001b[0;34m)\u001b[0m\u001b[0;34m\u001b[0m\u001b[0;34m\u001b[0m\u001b[0m\n",
            "\u001b[0;32m/usr/local/lib/python3.7/dist-packages/sklearn/metrics/_ranking.py\u001b[0m in \u001b[0;36m_binary_roc_auc_score\u001b[0;34m(y_true, y_score, sample_weight, max_fpr)\u001b[0m\n\u001b[1;32m    223\u001b[0m \u001b[0;34m\u001b[0m\u001b[0m\n\u001b[1;32m    224\u001b[0m     fpr, tpr, _ = roc_curve(y_true, y_score,\n\u001b[0;32m--> 225\u001b[0;31m                             sample_weight=sample_weight)\n\u001b[0m\u001b[1;32m    226\u001b[0m     \u001b[0;32mif\u001b[0m \u001b[0mmax_fpr\u001b[0m \u001b[0;32mis\u001b[0m \u001b[0;32mNone\u001b[0m \u001b[0;32mor\u001b[0m \u001b[0mmax_fpr\u001b[0m \u001b[0;34m==\u001b[0m \u001b[0;36m1\u001b[0m\u001b[0;34m:\u001b[0m\u001b[0;34m\u001b[0m\u001b[0;34m\u001b[0m\u001b[0m\n\u001b[1;32m    227\u001b[0m         \u001b[0;32mreturn\u001b[0m \u001b[0mauc\u001b[0m\u001b[0;34m(\u001b[0m\u001b[0mfpr\u001b[0m\u001b[0;34m,\u001b[0m \u001b[0mtpr\u001b[0m\u001b[0;34m)\u001b[0m\u001b[0;34m\u001b[0m\u001b[0;34m\u001b[0m\u001b[0m\n",
            "\u001b[0;32m/usr/local/lib/python3.7/dist-packages/sklearn/metrics/_ranking.py\u001b[0m in \u001b[0;36mroc_curve\u001b[0;34m(y_true, y_score, pos_label, sample_weight, drop_intermediate)\u001b[0m\n\u001b[1;32m    769\u001b[0m     \"\"\"\n\u001b[1;32m    770\u001b[0m     fps, tps, thresholds = _binary_clf_curve(\n\u001b[0;32m--> 771\u001b[0;31m         y_true, y_score, pos_label=pos_label, sample_weight=sample_weight)\n\u001b[0m\u001b[1;32m    772\u001b[0m \u001b[0;34m\u001b[0m\u001b[0m\n\u001b[1;32m    773\u001b[0m     \u001b[0;31m# Attempt to drop thresholds corresponding to points in between and\u001b[0m\u001b[0;34m\u001b[0m\u001b[0;34m\u001b[0m\u001b[0;34m\u001b[0m\u001b[0m\n",
            "\u001b[0;32m/usr/local/lib/python3.7/dist-packages/sklearn/metrics/_ranking.py\u001b[0m in \u001b[0;36m_binary_clf_curve\u001b[0;34m(y_true, y_score, pos_label, sample_weight)\u001b[0m\n\u001b[1;32m    536\u001b[0m         \u001b[0;32mraise\u001b[0m \u001b[0mValueError\u001b[0m\u001b[0;34m(\u001b[0m\u001b[0;34m\"{0} format is not supported\"\u001b[0m\u001b[0;34m.\u001b[0m\u001b[0mformat\u001b[0m\u001b[0;34m(\u001b[0m\u001b[0my_type\u001b[0m\u001b[0;34m)\u001b[0m\u001b[0;34m)\u001b[0m\u001b[0;34m\u001b[0m\u001b[0;34m\u001b[0m\u001b[0m\n\u001b[1;32m    537\u001b[0m \u001b[0;34m\u001b[0m\u001b[0m\n\u001b[0;32m--> 538\u001b[0;31m     \u001b[0mcheck_consistent_length\u001b[0m\u001b[0;34m(\u001b[0m\u001b[0my_true\u001b[0m\u001b[0;34m,\u001b[0m \u001b[0my_score\u001b[0m\u001b[0;34m,\u001b[0m \u001b[0msample_weight\u001b[0m\u001b[0;34m)\u001b[0m\u001b[0;34m\u001b[0m\u001b[0;34m\u001b[0m\u001b[0m\n\u001b[0m\u001b[1;32m    539\u001b[0m     \u001b[0my_true\u001b[0m \u001b[0;34m=\u001b[0m \u001b[0mcolumn_or_1d\u001b[0m\u001b[0;34m(\u001b[0m\u001b[0my_true\u001b[0m\u001b[0;34m)\u001b[0m\u001b[0;34m\u001b[0m\u001b[0;34m\u001b[0m\u001b[0m\n\u001b[1;32m    540\u001b[0m     \u001b[0my_score\u001b[0m \u001b[0;34m=\u001b[0m \u001b[0mcolumn_or_1d\u001b[0m\u001b[0;34m(\u001b[0m\u001b[0my_score\u001b[0m\u001b[0;34m)\u001b[0m\u001b[0;34m\u001b[0m\u001b[0;34m\u001b[0m\u001b[0m\n",
            "\u001b[0;32m/usr/local/lib/python3.7/dist-packages/sklearn/utils/validation.py\u001b[0m in \u001b[0;36mcheck_consistent_length\u001b[0;34m(*arrays)\u001b[0m\n\u001b[1;32m    210\u001b[0m     \u001b[0;32mif\u001b[0m \u001b[0mlen\u001b[0m\u001b[0;34m(\u001b[0m\u001b[0muniques\u001b[0m\u001b[0;34m)\u001b[0m \u001b[0;34m>\u001b[0m \u001b[0;36m1\u001b[0m\u001b[0;34m:\u001b[0m\u001b[0;34m\u001b[0m\u001b[0;34m\u001b[0m\u001b[0m\n\u001b[1;32m    211\u001b[0m         raise ValueError(\"Found input variables with inconsistent numbers of\"\n\u001b[0;32m--> 212\u001b[0;31m                          \" samples: %r\" % [int(l) for l in lengths])\n\u001b[0m\u001b[1;32m    213\u001b[0m \u001b[0;34m\u001b[0m\u001b[0m\n\u001b[1;32m    214\u001b[0m \u001b[0;34m\u001b[0m\u001b[0m\n",
            "\u001b[0;31mValueError\u001b[0m: Found input variables with inconsistent numbers of samples: [31950, 13694]"
          ]
        }
      ]
    },
    {
      "cell_type": "code",
      "metadata": {
        "id": "XXHyHnt825gH"
      },
      "source": [
        ""
      ],
      "execution_count": null,
      "outputs": []
    }
  ]
}